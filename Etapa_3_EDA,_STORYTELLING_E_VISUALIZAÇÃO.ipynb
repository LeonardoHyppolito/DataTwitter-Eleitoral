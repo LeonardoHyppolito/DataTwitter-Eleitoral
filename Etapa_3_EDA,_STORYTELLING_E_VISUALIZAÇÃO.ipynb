{
  "nbformat": 4,
  "nbformat_minor": 0,
  "metadata": {
    "colab": {
      "name": "Etapa 3 - EDA, STORYTELLING E VISUALIZAÇÃO.ipynb",
      "provenance": [],
      "collapsed_sections": [],
      "authorship_tag": "ABX9TyNwDIKMdRujkiv+WPiMnkQE",
      "include_colab_link": true
    },
    "kernelspec": {
      "name": "python3",
      "display_name": "Python 3"
    },
    "language_info": {
      "name": "python"
    }
  },
  "cells": [
    {
      "cell_type": "markdown",
      "metadata": {
        "id": "view-in-github",
        "colab_type": "text"
      },
      "source": [
        "<a href=\"https://colab.research.google.com/github/LeonardoHyppolito/DataTwitter-Eleitoral/blob/main/Etapa_3_EDA%2C_STORYTELLING_E_VISUALIZA%C3%87%C3%83O.ipynb\" target=\"_parent\"><img src=\"https://colab.research.google.com/assets/colab-badge.svg\" alt=\"Open In Colab\"/></a>"
      ]
    },
    {
      "cell_type": "markdown",
      "source": [
        "### Apresentação do Projeto\n"
      ],
      "metadata": {
        "id": "R3r5tPFWudEB"
      }
    },
    {
      "cell_type": "code",
      "source": [
        ""
      ],
      "metadata": {
        "id": "ytS6AzJsuh4y"
      },
      "execution_count": null,
      "outputs": []
    }
  ]
}