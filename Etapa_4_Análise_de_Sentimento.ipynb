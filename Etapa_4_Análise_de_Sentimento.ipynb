{
  "nbformat": 4,
  "nbformat_minor": 0,
  "metadata": {
    "colab": {
      "name": "Etapa 4 - Análise de Sentimento.ipynb",
      "provenance": [],
      "collapsed_sections": [],
      "authorship_tag": "ABX9TyNxc3+7TiYigcgGePgBer/v",
      "include_colab_link": true
    },
    "kernelspec": {
      "name": "python3",
      "display_name": "Python 3"
    },
    "language_info": {
      "name": "python"
    }
  },
  "cells": [
    {
      "cell_type": "markdown",
      "metadata": {
        "id": "view-in-github",
        "colab_type": "text"
      },
      "source": [
        "<a href=\"https://colab.research.google.com/github/LeonardoHyppolito/DataTwitter-Eleitoral/blob/main/Etapa_4_An%C3%A1lise_de_Sentimento.ipynb\" target=\"_parent\"><img src=\"https://colab.research.google.com/assets/colab-badge.svg\" alt=\"Open In Colab\"/></a>"
      ]
    },
    {
      "cell_type": "markdown",
      "source": [
        "### Análise de Sentimento  "
      ],
      "metadata": {
        "id": "dQ30Uj-Ou1K2"
      }
    },
    {
      "cell_type": "code",
      "source": [
        "pip install vaderSentiment"
      ],
      "metadata": {
        "colab": {
          "base_uri": "https://localhost:8080/"
        },
        "id": "nxaJSATi144l",
        "outputId": "138b2f70-1c2e-4972-f232-09d93af65531"
      },
      "execution_count": 5,
      "outputs": [
        {
          "output_type": "stream",
          "name": "stdout",
          "text": [
            "Looking in indexes: https://pypi.org/simple, https://us-python.pkg.dev/colab-wheels/public/simple/\n",
            "Collecting vaderSentiment\n",
            "  Downloading vaderSentiment-3.3.2-py2.py3-none-any.whl (125 kB)\n",
            "\u001b[K     |████████████████████████████████| 125 kB 5.1 MB/s \n",
            "\u001b[?25hRequirement already satisfied: requests in /usr/local/lib/python3.7/dist-packages (from vaderSentiment) (2.23.0)\n",
            "Requirement already satisfied: idna<3,>=2.5 in /usr/local/lib/python3.7/dist-packages (from requests->vaderSentiment) (2.10)\n",
            "Requirement already satisfied: certifi>=2017.4.17 in /usr/local/lib/python3.7/dist-packages (from requests->vaderSentiment) (2022.6.15)\n",
            "Requirement already satisfied: urllib3!=1.25.0,!=1.25.1,<1.26,>=1.21.1 in /usr/local/lib/python3.7/dist-packages (from requests->vaderSentiment) (1.24.3)\n",
            "Requirement already satisfied: chardet<4,>=3.0.2 in /usr/local/lib/python3.7/dist-packages (from requests->vaderSentiment) (3.0.4)\n",
            "Installing collected packages: vaderSentiment\n",
            "Successfully installed vaderSentiment-3.3.2\n"
          ]
        }
      ]
    },
    {
      "cell_type": "code",
      "source": [
        "#Importando Bibliotecas \n",
        "import pandas as pd\n",
        "import re\n",
        "#Processamento de Linguagem Natural \n",
        "import nltk\n",
        "\n",
        "from nltk.sentiment.vader import SentimentIntensityAnalyzer as SIA\n",
        "from vaderSentiment.vaderSentiment import SentimentIntensityAnalyzer"
      ],
      "metadata": {
        "id": "JkUJE3qd1Wot"
      },
      "execution_count": 13,
      "outputs": []
    },
    {
      "cell_type": "code",
      "source": [
        "# Importando csv \n",
        "df_sentimento = pd.read_csv('df_todos_candidatos_pronto_para_sentimento.csv')"
      ],
      "metadata": {
        "id": "QxpQrWYWu3yK"
      },
      "execution_count": 14,
      "outputs": []
    },
    {
      "cell_type": "code",
      "source": [
        "#Primeira Visualização \n",
        "df_sentimento.head()"
      ],
      "metadata": {
        "colab": {
          "base_uri": "https://localhost:8080/",
          "height": 206
        },
        "id": "1j2Uq7Dh1sPS",
        "outputId": "d6c507bc-4e96-408a-f9aa-1461792eb1f8"
      },
      "execution_count": 15,
      "outputs": [
        {
          "output_type": "execute_result",
          "data": {
            "text/plain": [
              "                   Data_Hora             Id_Tweet  \\\n",
              "0  2022-08-02 15:57:00+00:00  1554496498150346752   \n",
              "1  2022-08-02 15:57:00+00:00  1554496498049622016   \n",
              "2  2022-08-02 15:56:59+00:00  1554496493427560448   \n",
              "3  2022-08-02 15:56:58+00:00  1554496489782755329   \n",
              "4  2022-08-02 15:56:58+00:00  1554496488788488197   \n",
              "\n",
              "                                               Tweet  Candidato  \\\n",
              "0          @jairbolsonaro Grandissimo @jairbolsonaro  BOLSONARO   \n",
              "1  CORNOS FECHADOS COM BOLSONARO?? https://t.co/e...  BOLSONARO   \n",
              "2  @paulocoelho  resolveu lacrar e mostrar sua ve...  BOLSONARO   \n",
              "3  @FlavioBolsonaro @brom_elisa Flavio teve uma i...  BOLSONARO   \n",
              "4  Bolsonaro Torches Leonardo DiCaprio, ‘Greta Ti...  BOLSONARO   \n",
              "\n",
              "                                         Tweet-limpo  \n",
              "0                                       grandissimo   \n",
              "1                   cornos fechados com bolsonaro??   \n",
              "2    resolveu lacrar e mostrar sua verdadeira fac...  \n",
              "3    flavio teve uma ideia 💡 quando o seu pai pre...  \n",
              "4  bolsonaro torches leonardo dicaprio, ‘greta ti...  "
            ],
            "text/html": [
              "\n",
              "  <div id=\"df-051ad6ba-e7e5-4537-a2f1-1d94b4baf363\">\n",
              "    <div class=\"colab-df-container\">\n",
              "      <div>\n",
              "<style scoped>\n",
              "    .dataframe tbody tr th:only-of-type {\n",
              "        vertical-align: middle;\n",
              "    }\n",
              "\n",
              "    .dataframe tbody tr th {\n",
              "        vertical-align: top;\n",
              "    }\n",
              "\n",
              "    .dataframe thead th {\n",
              "        text-align: right;\n",
              "    }\n",
              "</style>\n",
              "<table border=\"1\" class=\"dataframe\">\n",
              "  <thead>\n",
              "    <tr style=\"text-align: right;\">\n",
              "      <th></th>\n",
              "      <th>Data_Hora</th>\n",
              "      <th>Id_Tweet</th>\n",
              "      <th>Tweet</th>\n",
              "      <th>Candidato</th>\n",
              "      <th>Tweet-limpo</th>\n",
              "    </tr>\n",
              "  </thead>\n",
              "  <tbody>\n",
              "    <tr>\n",
              "      <th>0</th>\n",
              "      <td>2022-08-02 15:57:00+00:00</td>\n",
              "      <td>1554496498150346752</td>\n",
              "      <td>@jairbolsonaro Grandissimo @jairbolsonaro</td>\n",
              "      <td>BOLSONARO</td>\n",
              "      <td>grandissimo</td>\n",
              "    </tr>\n",
              "    <tr>\n",
              "      <th>1</th>\n",
              "      <td>2022-08-02 15:57:00+00:00</td>\n",
              "      <td>1554496498049622016</td>\n",
              "      <td>CORNOS FECHADOS COM BOLSONARO?? https://t.co/e...</td>\n",
              "      <td>BOLSONARO</td>\n",
              "      <td>cornos fechados com bolsonaro??</td>\n",
              "    </tr>\n",
              "    <tr>\n",
              "      <th>2</th>\n",
              "      <td>2022-08-02 15:56:59+00:00</td>\n",
              "      <td>1554496493427560448</td>\n",
              "      <td>@paulocoelho  resolveu lacrar e mostrar sua ve...</td>\n",
              "      <td>BOLSONARO</td>\n",
              "      <td>resolveu lacrar e mostrar sua verdadeira fac...</td>\n",
              "    </tr>\n",
              "    <tr>\n",
              "      <th>3</th>\n",
              "      <td>2022-08-02 15:56:58+00:00</td>\n",
              "      <td>1554496489782755329</td>\n",
              "      <td>@FlavioBolsonaro @brom_elisa Flavio teve uma i...</td>\n",
              "      <td>BOLSONARO</td>\n",
              "      <td>flavio teve uma ideia 💡 quando o seu pai pre...</td>\n",
              "    </tr>\n",
              "    <tr>\n",
              "      <th>4</th>\n",
              "      <td>2022-08-02 15:56:58+00:00</td>\n",
              "      <td>1554496488788488197</td>\n",
              "      <td>Bolsonaro Torches Leonardo DiCaprio, ‘Greta Ti...</td>\n",
              "      <td>BOLSONARO</td>\n",
              "      <td>bolsonaro torches leonardo dicaprio, ‘greta ti...</td>\n",
              "    </tr>\n",
              "  </tbody>\n",
              "</table>\n",
              "</div>\n",
              "      <button class=\"colab-df-convert\" onclick=\"convertToInteractive('df-051ad6ba-e7e5-4537-a2f1-1d94b4baf363')\"\n",
              "              title=\"Convert this dataframe to an interactive table.\"\n",
              "              style=\"display:none;\">\n",
              "        \n",
              "  <svg xmlns=\"http://www.w3.org/2000/svg\" height=\"24px\"viewBox=\"0 0 24 24\"\n",
              "       width=\"24px\">\n",
              "    <path d=\"M0 0h24v24H0V0z\" fill=\"none\"/>\n",
              "    <path d=\"M18.56 5.44l.94 2.06.94-2.06 2.06-.94-2.06-.94-.94-2.06-.94 2.06-2.06.94zm-11 1L8.5 8.5l.94-2.06 2.06-.94-2.06-.94L8.5 2.5l-.94 2.06-2.06.94zm10 10l.94 2.06.94-2.06 2.06-.94-2.06-.94-.94-2.06-.94 2.06-2.06.94z\"/><path d=\"M17.41 7.96l-1.37-1.37c-.4-.4-.92-.59-1.43-.59-.52 0-1.04.2-1.43.59L10.3 9.45l-7.72 7.72c-.78.78-.78 2.05 0 2.83L4 21.41c.39.39.9.59 1.41.59.51 0 1.02-.2 1.41-.59l7.78-7.78 2.81-2.81c.8-.78.8-2.07 0-2.86zM5.41 20L4 18.59l7.72-7.72 1.47 1.35L5.41 20z\"/>\n",
              "  </svg>\n",
              "      </button>\n",
              "      \n",
              "  <style>\n",
              "    .colab-df-container {\n",
              "      display:flex;\n",
              "      flex-wrap:wrap;\n",
              "      gap: 12px;\n",
              "    }\n",
              "\n",
              "    .colab-df-convert {\n",
              "      background-color: #E8F0FE;\n",
              "      border: none;\n",
              "      border-radius: 50%;\n",
              "      cursor: pointer;\n",
              "      display: none;\n",
              "      fill: #1967D2;\n",
              "      height: 32px;\n",
              "      padding: 0 0 0 0;\n",
              "      width: 32px;\n",
              "    }\n",
              "\n",
              "    .colab-df-convert:hover {\n",
              "      background-color: #E2EBFA;\n",
              "      box-shadow: 0px 1px 2px rgba(60, 64, 67, 0.3), 0px 1px 3px 1px rgba(60, 64, 67, 0.15);\n",
              "      fill: #174EA6;\n",
              "    }\n",
              "\n",
              "    [theme=dark] .colab-df-convert {\n",
              "      background-color: #3B4455;\n",
              "      fill: #D2E3FC;\n",
              "    }\n",
              "\n",
              "    [theme=dark] .colab-df-convert:hover {\n",
              "      background-color: #434B5C;\n",
              "      box-shadow: 0px 1px 3px 1px rgba(0, 0, 0, 0.15);\n",
              "      filter: drop-shadow(0px 1px 2px rgba(0, 0, 0, 0.3));\n",
              "      fill: #FFFFFF;\n",
              "    }\n",
              "  </style>\n",
              "\n",
              "      <script>\n",
              "        const buttonEl =\n",
              "          document.querySelector('#df-051ad6ba-e7e5-4537-a2f1-1d94b4baf363 button.colab-df-convert');\n",
              "        buttonEl.style.display =\n",
              "          google.colab.kernel.accessAllowed ? 'block' : 'none';\n",
              "\n",
              "        async function convertToInteractive(key) {\n",
              "          const element = document.querySelector('#df-051ad6ba-e7e5-4537-a2f1-1d94b4baf363');\n",
              "          const dataTable =\n",
              "            await google.colab.kernel.invokeFunction('convertToInteractive',\n",
              "                                                     [key], {});\n",
              "          if (!dataTable) return;\n",
              "\n",
              "          const docLinkHtml = 'Like what you see? Visit the ' +\n",
              "            '<a target=\"_blank\" href=https://colab.research.google.com/notebooks/data_table.ipynb>data table notebook</a>'\n",
              "            + ' to learn more about interactive tables.';\n",
              "          element.innerHTML = '';\n",
              "          dataTable['output_type'] = 'display_data';\n",
              "          await google.colab.output.renderOutput(dataTable, element);\n",
              "          const docLink = document.createElement('div');\n",
              "          docLink.innerHTML = docLinkHtml;\n",
              "          element.appendChild(docLink);\n",
              "        }\n",
              "      </script>\n",
              "    </div>\n",
              "  </div>\n",
              "  "
            ]
          },
          "metadata": {},
          "execution_count": 15
        }
      ]
    },
    {
      "cell_type": "code",
      "source": [
        "analisador_de_texto = SentimentIntensityAnalyzer()"
      ],
      "metadata": {
        "id": "3KC77w9m1t-P"
      },
      "execution_count": 16,
      "outputs": []
    },
    {
      "cell_type": "code",
      "source": [
        "df_sentimento['Sentimentos'] = df_sentimento['Tweet-limpo'].apply(lambda i: analisador_de_texto.polarity_scores(' '))"
      ],
      "metadata": {
        "id": "4pLnAEYS40DF"
      },
      "execution_count": 45,
      "outputs": []
    },
    {
      "cell_type": "code",
      "source": [
        "df_sentimento.head()"
      ],
      "metadata": {
        "colab": {
          "base_uri": "https://localhost:8080/",
          "height": 206
        },
        "id": "SOnkVzH85oNx",
        "outputId": "d7081280-b93f-4429-893a-a3d97dbd5122"
      },
      "execution_count": 46,
      "outputs": [
        {
          "output_type": "execute_result",
          "data": {
            "text/plain": [
              "                   Data_Hora             Id_Tweet  \\\n",
              "0  2022-08-02 15:57:00+00:00  1554496498150346752   \n",
              "1  2022-08-02 15:57:00+00:00  1554496498049622016   \n",
              "2  2022-08-02 15:56:59+00:00  1554496493427560448   \n",
              "3  2022-08-02 15:56:58+00:00  1554496489782755329   \n",
              "4  2022-08-02 15:56:58+00:00  1554496488788488197   \n",
              "\n",
              "                                               Tweet  Candidato  \\\n",
              "0          @jairbolsonaro Grandissimo @jairbolsonaro  BOLSONARO   \n",
              "1  CORNOS FECHADOS COM BOLSONARO?? https://t.co/e...  BOLSONARO   \n",
              "2  @paulocoelho  resolveu lacrar e mostrar sua ve...  BOLSONARO   \n",
              "3  @FlavioBolsonaro @brom_elisa Flavio teve uma i...  BOLSONARO   \n",
              "4  Bolsonaro Torches Leonardo DiCaprio, ‘Greta Ti...  BOLSONARO   \n",
              "\n",
              "                                         Tweet-limpo  \\\n",
              "0                                       grandissimo    \n",
              "1                   cornos fechados com bolsonaro??    \n",
              "2    resolveu lacrar e mostrar sua verdadeira fac...   \n",
              "3    flavio teve uma ideia 💡 quando o seu pai pre...   \n",
              "4  bolsonaro torches leonardo dicaprio, ‘greta ti...   \n",
              "\n",
              "                                         Sentimentos  \n",
              "0  {'neg': 0.0, 'neu': 0.0, 'pos': 0.0, 'compound...  \n",
              "1  {'neg': 0.0, 'neu': 0.0, 'pos': 0.0, 'compound...  \n",
              "2  {'neg': 0.0, 'neu': 0.0, 'pos': 0.0, 'compound...  \n",
              "3  {'neg': 0.0, 'neu': 0.0, 'pos': 0.0, 'compound...  \n",
              "4  {'neg': 0.0, 'neu': 0.0, 'pos': 0.0, 'compound...  "
            ],
            "text/html": [
              "\n",
              "  <div id=\"df-caa47583-b10e-4932-af2b-fac4ecf65666\">\n",
              "    <div class=\"colab-df-container\">\n",
              "      <div>\n",
              "<style scoped>\n",
              "    .dataframe tbody tr th:only-of-type {\n",
              "        vertical-align: middle;\n",
              "    }\n",
              "\n",
              "    .dataframe tbody tr th {\n",
              "        vertical-align: top;\n",
              "    }\n",
              "\n",
              "    .dataframe thead th {\n",
              "        text-align: right;\n",
              "    }\n",
              "</style>\n",
              "<table border=\"1\" class=\"dataframe\">\n",
              "  <thead>\n",
              "    <tr style=\"text-align: right;\">\n",
              "      <th></th>\n",
              "      <th>Data_Hora</th>\n",
              "      <th>Id_Tweet</th>\n",
              "      <th>Tweet</th>\n",
              "      <th>Candidato</th>\n",
              "      <th>Tweet-limpo</th>\n",
              "      <th>Sentimentos</th>\n",
              "    </tr>\n",
              "  </thead>\n",
              "  <tbody>\n",
              "    <tr>\n",
              "      <th>0</th>\n",
              "      <td>2022-08-02 15:57:00+00:00</td>\n",
              "      <td>1554496498150346752</td>\n",
              "      <td>@jairbolsonaro Grandissimo @jairbolsonaro</td>\n",
              "      <td>BOLSONARO</td>\n",
              "      <td>grandissimo</td>\n",
              "      <td>{'neg': 0.0, 'neu': 0.0, 'pos': 0.0, 'compound...</td>\n",
              "    </tr>\n",
              "    <tr>\n",
              "      <th>1</th>\n",
              "      <td>2022-08-02 15:57:00+00:00</td>\n",
              "      <td>1554496498049622016</td>\n",
              "      <td>CORNOS FECHADOS COM BOLSONARO?? https://t.co/e...</td>\n",
              "      <td>BOLSONARO</td>\n",
              "      <td>cornos fechados com bolsonaro??</td>\n",
              "      <td>{'neg': 0.0, 'neu': 0.0, 'pos': 0.0, 'compound...</td>\n",
              "    </tr>\n",
              "    <tr>\n",
              "      <th>2</th>\n",
              "      <td>2022-08-02 15:56:59+00:00</td>\n",
              "      <td>1554496493427560448</td>\n",
              "      <td>@paulocoelho  resolveu lacrar e mostrar sua ve...</td>\n",
              "      <td>BOLSONARO</td>\n",
              "      <td>resolveu lacrar e mostrar sua verdadeira fac...</td>\n",
              "      <td>{'neg': 0.0, 'neu': 0.0, 'pos': 0.0, 'compound...</td>\n",
              "    </tr>\n",
              "    <tr>\n",
              "      <th>3</th>\n",
              "      <td>2022-08-02 15:56:58+00:00</td>\n",
              "      <td>1554496489782755329</td>\n",
              "      <td>@FlavioBolsonaro @brom_elisa Flavio teve uma i...</td>\n",
              "      <td>BOLSONARO</td>\n",
              "      <td>flavio teve uma ideia 💡 quando o seu pai pre...</td>\n",
              "      <td>{'neg': 0.0, 'neu': 0.0, 'pos': 0.0, 'compound...</td>\n",
              "    </tr>\n",
              "    <tr>\n",
              "      <th>4</th>\n",
              "      <td>2022-08-02 15:56:58+00:00</td>\n",
              "      <td>1554496488788488197</td>\n",
              "      <td>Bolsonaro Torches Leonardo DiCaprio, ‘Greta Ti...</td>\n",
              "      <td>BOLSONARO</td>\n",
              "      <td>bolsonaro torches leonardo dicaprio, ‘greta ti...</td>\n",
              "      <td>{'neg': 0.0, 'neu': 0.0, 'pos': 0.0, 'compound...</td>\n",
              "    </tr>\n",
              "  </tbody>\n",
              "</table>\n",
              "</div>\n",
              "      <button class=\"colab-df-convert\" onclick=\"convertToInteractive('df-caa47583-b10e-4932-af2b-fac4ecf65666')\"\n",
              "              title=\"Convert this dataframe to an interactive table.\"\n",
              "              style=\"display:none;\">\n",
              "        \n",
              "  <svg xmlns=\"http://www.w3.org/2000/svg\" height=\"24px\"viewBox=\"0 0 24 24\"\n",
              "       width=\"24px\">\n",
              "    <path d=\"M0 0h24v24H0V0z\" fill=\"none\"/>\n",
              "    <path d=\"M18.56 5.44l.94 2.06.94-2.06 2.06-.94-2.06-.94-.94-2.06-.94 2.06-2.06.94zm-11 1L8.5 8.5l.94-2.06 2.06-.94-2.06-.94L8.5 2.5l-.94 2.06-2.06.94zm10 10l.94 2.06.94-2.06 2.06-.94-2.06-.94-.94-2.06-.94 2.06-2.06.94z\"/><path d=\"M17.41 7.96l-1.37-1.37c-.4-.4-.92-.59-1.43-.59-.52 0-1.04.2-1.43.59L10.3 9.45l-7.72 7.72c-.78.78-.78 2.05 0 2.83L4 21.41c.39.39.9.59 1.41.59.51 0 1.02-.2 1.41-.59l7.78-7.78 2.81-2.81c.8-.78.8-2.07 0-2.86zM5.41 20L4 18.59l7.72-7.72 1.47 1.35L5.41 20z\"/>\n",
              "  </svg>\n",
              "      </button>\n",
              "      \n",
              "  <style>\n",
              "    .colab-df-container {\n",
              "      display:flex;\n",
              "      flex-wrap:wrap;\n",
              "      gap: 12px;\n",
              "    }\n",
              "\n",
              "    .colab-df-convert {\n",
              "      background-color: #E8F0FE;\n",
              "      border: none;\n",
              "      border-radius: 50%;\n",
              "      cursor: pointer;\n",
              "      display: none;\n",
              "      fill: #1967D2;\n",
              "      height: 32px;\n",
              "      padding: 0 0 0 0;\n",
              "      width: 32px;\n",
              "    }\n",
              "\n",
              "    .colab-df-convert:hover {\n",
              "      background-color: #E2EBFA;\n",
              "      box-shadow: 0px 1px 2px rgba(60, 64, 67, 0.3), 0px 1px 3px 1px rgba(60, 64, 67, 0.15);\n",
              "      fill: #174EA6;\n",
              "    }\n",
              "\n",
              "    [theme=dark] .colab-df-convert {\n",
              "      background-color: #3B4455;\n",
              "      fill: #D2E3FC;\n",
              "    }\n",
              "\n",
              "    [theme=dark] .colab-df-convert:hover {\n",
              "      background-color: #434B5C;\n",
              "      box-shadow: 0px 1px 3px 1px rgba(0, 0, 0, 0.15);\n",
              "      filter: drop-shadow(0px 1px 2px rgba(0, 0, 0, 0.3));\n",
              "      fill: #FFFFFF;\n",
              "    }\n",
              "  </style>\n",
              "\n",
              "      <script>\n",
              "        const buttonEl =\n",
              "          document.querySelector('#df-caa47583-b10e-4932-af2b-fac4ecf65666 button.colab-df-convert');\n",
              "        buttonEl.style.display =\n",
              "          google.colab.kernel.accessAllowed ? 'block' : 'none';\n",
              "\n",
              "        async function convertToInteractive(key) {\n",
              "          const element = document.querySelector('#df-caa47583-b10e-4932-af2b-fac4ecf65666');\n",
              "          const dataTable =\n",
              "            await google.colab.kernel.invokeFunction('convertToInteractive',\n",
              "                                                     [key], {});\n",
              "          if (!dataTable) return;\n",
              "\n",
              "          const docLinkHtml = 'Like what you see? Visit the ' +\n",
              "            '<a target=\"_blank\" href=https://colab.research.google.com/notebooks/data_table.ipynb>data table notebook</a>'\n",
              "            + ' to learn more about interactive tables.';\n",
              "          element.innerHTML = '';\n",
              "          dataTable['output_type'] = 'display_data';\n",
              "          await google.colab.output.renderOutput(dataTable, element);\n",
              "          const docLink = document.createElement('div');\n",
              "          docLink.innerHTML = docLinkHtml;\n",
              "          element.appendChild(docLink);\n",
              "        }\n",
              "      </script>\n",
              "    </div>\n",
              "  </div>\n",
              "  "
            ]
          },
          "metadata": {},
          "execution_count": 46
        }
      ]
    },
    {
      "cell_type": "code",
      "source": [
        "df_sentimento['Sentimentos']"
      ],
      "metadata": {
        "colab": {
          "base_uri": "https://localhost:8080/"
        },
        "id": "UuT3v15G7okd",
        "outputId": "40c5da1c-e165-4cc7-be5d-88c24a9081e5"
      },
      "execution_count": 47,
      "outputs": [
        {
          "output_type": "execute_result",
          "data": {
            "text/plain": [
              "0      {'neg': 0.0, 'neu': 0.0, 'pos': 0.0, 'compound...\n",
              "1      {'neg': 0.0, 'neu': 0.0, 'pos': 0.0, 'compound...\n",
              "2      {'neg': 0.0, 'neu': 0.0, 'pos': 0.0, 'compound...\n",
              "3      {'neg': 0.0, 'neu': 0.0, 'pos': 0.0, 'compound...\n",
              "4      {'neg': 0.0, 'neu': 0.0, 'pos': 0.0, 'compound...\n",
              "                             ...                        \n",
              "607    {'neg': 0.0, 'neu': 0.0, 'pos': 0.0, 'compound...\n",
              "608    {'neg': 0.0, 'neu': 0.0, 'pos': 0.0, 'compound...\n",
              "609    {'neg': 0.0, 'neu': 0.0, 'pos': 0.0, 'compound...\n",
              "610    {'neg': 0.0, 'neu': 0.0, 'pos': 0.0, 'compound...\n",
              "611    {'neg': 0.0, 'neu': 0.0, 'pos': 0.0, 'compound...\n",
              "Name: Sentimentos, Length: 612, dtype: object"
            ]
          },
          "metadata": {},
          "execution_count": 47
        }
      ]
    },
    {
      "cell_type": "code",
      "source": [
        "df_sentimento['Sentimentos'].describe()"
      ],
      "metadata": {
        "colab": {
          "base_uri": "https://localhost:8080/"
        },
        "id": "yM9Uh4XA7ykF",
        "outputId": "0573f816-a126-4c89-c828-d4408a6ab3e1"
      },
      "execution_count": 48,
      "outputs": [
        {
          "output_type": "execute_result",
          "data": {
            "text/plain": [
              "count                                                   612\n",
              "unique                                                    1\n",
              "top       {'neg': 0.0, 'neu': 0.0, 'pos': 0.0, 'compound...\n",
              "freq                                                    612\n",
              "Name: Sentimentos, dtype: object"
            ]
          },
          "metadata": {},
          "execution_count": 48
        }
      ]
    },
    {
      "cell_type": "code",
      "source": [
        ""
      ],
      "metadata": {
        "id": "PUI3HPsl8HH3"
      },
      "execution_count": null,
      "outputs": []
    }
  ]
}