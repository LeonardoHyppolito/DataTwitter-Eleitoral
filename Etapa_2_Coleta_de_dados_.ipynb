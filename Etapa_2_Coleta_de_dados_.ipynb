{
  "nbformat": 4,
  "nbformat_minor": 0,
  "metadata": {
    "colab": {
      "name": "Etapa 2 - Coleta de dados .ipynb",
      "provenance": [],
      "collapsed_sections": [],
      "authorship_tag": "ABX9TyPecT5kgE08qLfzUCcHh0CF",
      "include_colab_link": true
    },
    "kernelspec": {
      "name": "python3",
      "display_name": "Python 3"
    },
    "language_info": {
      "name": "python"
    }
  },
  "cells": [
    {
      "cell_type": "markdown",
      "metadata": {
        "id": "view-in-github",
        "colab_type": "text"
      },
      "source": [
        "<a href=\"https://colab.research.google.com/github/LeonardoHyppolito/DataTwitter-Eleitoral/blob/main/Etapa_2_Coleta_de_dados_.ipynb\" target=\"_parent\"><img src=\"https://colab.research.google.com/assets/colab-badge.svg\" alt=\"Open In Colab\"/></a>"
      ]
    },
    {
      "cell_type": "markdown",
      "source": [
        "### Apresentação do Projeto \n",
        "Proposta para a construção de uma aplicação que realiza análise de sentimentos dos candidatos à presidência, coletando dados do twitter. "
      ],
      "metadata": {
        "id": "ud88odDitlFL"
      }
    },
    {
      "cell_type": "markdown",
      "source": [
        "Instalação das Bibliotecas \n"
      ],
      "metadata": {
        "id": "RJb_BzFeplFJ"
      }
    },
    {
      "cell_type": "code",
      "source": [
        "pip install snscrape"
      ],
      "metadata": {
        "id": "wEmSJYbluAxD",
        "colab": {
          "base_uri": "https://localhost:8080/"
        },
        "outputId": "1f5736bd-3671-4d6f-ad4a-b2d79e76cd36"
      },
      "execution_count": null,
      "outputs": [
        {
          "output_type": "stream",
          "name": "stdout",
          "text": [
            "Looking in indexes: https://pypi.org/simple, https://us-python.pkg.dev/colab-wheels/public/simple/\n",
            "Requirement already satisfied: snscrape in /usr/local/lib/python3.7/dist-packages (0.3.4)\n",
            "Requirement already satisfied: beautifulsoup4 in /usr/local/lib/python3.7/dist-packages (from snscrape) (4.6.3)\n",
            "Requirement already satisfied: lxml in /usr/local/lib/python3.7/dist-packages (from snscrape) (4.9.1)\n",
            "Requirement already satisfied: requests[socks] in /usr/local/lib/python3.7/dist-packages (from snscrape) (2.23.0)\n",
            "Requirement already satisfied: idna<3,>=2.5 in /usr/local/lib/python3.7/dist-packages (from requests[socks]->snscrape) (2.10)\n",
            "Requirement already satisfied: certifi>=2017.4.17 in /usr/local/lib/python3.7/dist-packages (from requests[socks]->snscrape) (2022.6.15)\n",
            "Requirement already satisfied: chardet<4,>=3.0.2 in /usr/local/lib/python3.7/dist-packages (from requests[socks]->snscrape) (3.0.4)\n",
            "Requirement already satisfied: urllib3!=1.25.0,!=1.25.1,<1.26,>=1.21.1 in /usr/local/lib/python3.7/dist-packages (from requests[socks]->snscrape) (1.24.3)\n",
            "Requirement already satisfied: PySocks!=1.5.7,>=1.5.6 in /usr/local/lib/python3.7/dist-packages (from requests[socks]->snscrape) (1.7.1)\n"
          ]
        }
      ]
    },
    {
      "cell_type": "markdown",
      "source": [
        "Importando as biblioteas \n"
      ],
      "metadata": {
        "id": "d7ohoameqSmo"
      }
    },
    {
      "cell_type": "code",
      "source": [
        "import snscrape.modules.twitter as sntwitter\n",
        "\n",
        "# Manipulação de Dados\n",
        "import pandas as pd"
      ],
      "metadata": {
        "id": "fXvL1N5ZqA1N"
      },
      "execution_count": null,
      "outputs": []
    },
    {
      "cell_type": "code",
      "source": [
        "#Quantos tweets eu quero analisar ? \n",
        "maximo_de_tweets = 50"
      ],
      "metadata": {
        "id": "FcYMcDELqnqQ"
      },
      "execution_count": null,
      "outputs": []
    },
    {
      "cell_type": "markdown",
      "source": [
        "###Lula"
      ],
      "metadata": {
        "id": "dOdwgAKR6OOh"
      }
    },
    {
      "cell_type": "code",
      "source": [
        "lista_de_tweets_lula = []"
      ],
      "metadata": {
        "id": "X2cCRCmerHIu"
      },
      "execution_count": null,
      "outputs": []
    },
    {
      "cell_type": "markdown",
      "source": [
        "Para realizar a tarefa repetidamente utilizamos o for, para o for precisamos do \"i\" que controla (conta) a tarefa, e  vamos precisar de algo salvando o texto do tweet, que sera a nossa variavel \"tweet\", o enumerate vai pegar os tweets e anotar; logo, dentro do enumerate colocamos o método da biblioteca que irá buscar os tweets no twitter e usamos o get_items para pegar as informações que foram buscadas. O i conta, e o tweet escreve o texto,e o \"break\" encerra a atividade. Após isso, chamamos a 'lista de tweets do lula', para salvar todos os novos textos 'tweets' que chegarem, e para isso utilizamos o append.([tweet.date para adicionar a data, o tweet.id, para adicionar o id, e depois o tweet.content, para adicionar o conteúdo do tweet. "
      ],
      "metadata": {
        "id": "2tEV2tCRwquh"
      }
    },
    {
      "cell_type": "code",
      "source": [
        "# O i percorre os tweets, que a biblioteca busca, até o valor atribuido ao máximo de tweets.\n",
        "for i, tweet in enumerate(sntwitter.TwitterSearchScraper(['lula']).get_items()):\n",
        "  if i > maximo_de_tweets:\n",
        "    break\n",
        "  lista_de_tweets_lula.append([tweet.date, tweet.id, tweet.content])"
      ],
      "metadata": {
        "id": "B8KXQ0vLs3Mv"
      },
      "execution_count": null,
      "outputs": []
    },
    {
      "cell_type": "code",
      "source": [
        "# Visualizando um elemento da lista\n",
        "lista_de_tweets_lula[1] # Date time traz a data, e a hora. "
      ],
      "metadata": {
        "colab": {
          "base_uri": "https://localhost:8080/"
        },
        "id": "yLqCevrcukkO",
        "outputId": "c7dbf8b9-fabc-4fcf-af64-e994338322d5"
      },
      "execution_count": null,
      "outputs": [
        {
          "output_type": "execute_result",
          "data": {
            "text/plain": [
              "[datetime.datetime(2022, 8, 2, 15, 56, 16, tzinfo=datetime.timezone.utc),\n",
              " 1554496311562485760,\n",
              " '@CoronelHomeroSP @LulaOficial Por que a milícia vota no bolsonaro']"
            ]
          },
          "metadata": {},
          "execution_count": 198
        }
      ]
    },
    {
      "cell_type": "code",
      "source": [
        "# Listas podem ser ótimas para salvar dados, mas dificultam a visualização, logo vou armazenar os dados dela em um df. \n",
        "dataframe_tweets_lula = pd.DataFrame(lista_de_tweets_lula, columns=['Data_Hora', 'Id_Tweet', 'Tweet'])"
      ],
      "metadata": {
        "id": "TGSUWhaI2g0C"
      },
      "execution_count": null,
      "outputs": []
    },
    {
      "cell_type": "code",
      "source": [
        "#Visualizando o df\n",
        "dataframe_tweets_lula.head()"
      ],
      "metadata": {
        "colab": {
          "base_uri": "https://localhost:8080/",
          "height": 337
        },
        "id": "sjH1VLhx4_TM",
        "outputId": "7fe1c273-6d7e-4ba6-fa56-f91b11788587"
      },
      "execution_count": null,
      "outputs": [
        {
          "output_type": "execute_result",
          "data": {
            "text/plain": [
              "                  Data_Hora             Id_Tweet  \\\n",
              "0 2022-08-02 15:56:16+00:00  1554496311931576322   \n",
              "1 2022-08-02 15:56:16+00:00  1554496311562485760   \n",
              "2 2022-08-02 15:56:16+00:00  1554496309884772352   \n",
              "3 2022-08-02 15:56:16+00:00  1554496309771620354   \n",
              "4 2022-08-02 15:56:15+00:00  1554496306013413377   \n",
              "\n",
              "                                               Tweet  \n",
              "0               @LulaOficial https://t.co/NAhBW8Guig  \n",
              "1  @CoronelHomeroSP @LulaOficial Por que a milíci...  \n",
              "2    @MottaGal @Nilsonhandebol @LulaOficial Seguindo  \n",
              "3  @PauloBarbedo3 @RoLuchsinger Acabei esquecendo...  \n",
              "4  @brom_elisa @kimpaim @jairbolsonaro Pode até s...  "
            ],
            "text/html": [
              "\n",
              "  <div id=\"df-66c854ca-c460-42aa-a1fe-648ba6165786\">\n",
              "    <div class=\"colab-df-container\">\n",
              "      <div>\n",
              "<style scoped>\n",
              "    .dataframe tbody tr th:only-of-type {\n",
              "        vertical-align: middle;\n",
              "    }\n",
              "\n",
              "    .dataframe tbody tr th {\n",
              "        vertical-align: top;\n",
              "    }\n",
              "\n",
              "    .dataframe thead th {\n",
              "        text-align: right;\n",
              "    }\n",
              "</style>\n",
              "<table border=\"1\" class=\"dataframe\">\n",
              "  <thead>\n",
              "    <tr style=\"text-align: right;\">\n",
              "      <th></th>\n",
              "      <th>Data_Hora</th>\n",
              "      <th>Id_Tweet</th>\n",
              "      <th>Tweet</th>\n",
              "    </tr>\n",
              "  </thead>\n",
              "  <tbody>\n",
              "    <tr>\n",
              "      <th>0</th>\n",
              "      <td>2022-08-02 15:56:16+00:00</td>\n",
              "      <td>1554496311931576322</td>\n",
              "      <td>@LulaOficial https://t.co/NAhBW8Guig</td>\n",
              "    </tr>\n",
              "    <tr>\n",
              "      <th>1</th>\n",
              "      <td>2022-08-02 15:56:16+00:00</td>\n",
              "      <td>1554496311562485760</td>\n",
              "      <td>@CoronelHomeroSP @LulaOficial Por que a milíci...</td>\n",
              "    </tr>\n",
              "    <tr>\n",
              "      <th>2</th>\n",
              "      <td>2022-08-02 15:56:16+00:00</td>\n",
              "      <td>1554496309884772352</td>\n",
              "      <td>@MottaGal @Nilsonhandebol @LulaOficial Seguindo</td>\n",
              "    </tr>\n",
              "    <tr>\n",
              "      <th>3</th>\n",
              "      <td>2022-08-02 15:56:16+00:00</td>\n",
              "      <td>1554496309771620354</td>\n",
              "      <td>@PauloBarbedo3 @RoLuchsinger Acabei esquecendo...</td>\n",
              "    </tr>\n",
              "    <tr>\n",
              "      <th>4</th>\n",
              "      <td>2022-08-02 15:56:15+00:00</td>\n",
              "      <td>1554496306013413377</td>\n",
              "      <td>@brom_elisa @kimpaim @jairbolsonaro Pode até s...</td>\n",
              "    </tr>\n",
              "  </tbody>\n",
              "</table>\n",
              "</div>\n",
              "      <button class=\"colab-df-convert\" onclick=\"convertToInteractive('df-66c854ca-c460-42aa-a1fe-648ba6165786')\"\n",
              "              title=\"Convert this dataframe to an interactive table.\"\n",
              "              style=\"display:none;\">\n",
              "        \n",
              "  <svg xmlns=\"http://www.w3.org/2000/svg\" height=\"24px\"viewBox=\"0 0 24 24\"\n",
              "       width=\"24px\">\n",
              "    <path d=\"M0 0h24v24H0V0z\" fill=\"none\"/>\n",
              "    <path d=\"M18.56 5.44l.94 2.06.94-2.06 2.06-.94-2.06-.94-.94-2.06-.94 2.06-2.06.94zm-11 1L8.5 8.5l.94-2.06 2.06-.94-2.06-.94L8.5 2.5l-.94 2.06-2.06.94zm10 10l.94 2.06.94-2.06 2.06-.94-2.06-.94-.94-2.06-.94 2.06-2.06.94z\"/><path d=\"M17.41 7.96l-1.37-1.37c-.4-.4-.92-.59-1.43-.59-.52 0-1.04.2-1.43.59L10.3 9.45l-7.72 7.72c-.78.78-.78 2.05 0 2.83L4 21.41c.39.39.9.59 1.41.59.51 0 1.02-.2 1.41-.59l7.78-7.78 2.81-2.81c.8-.78.8-2.07 0-2.86zM5.41 20L4 18.59l7.72-7.72 1.47 1.35L5.41 20z\"/>\n",
              "  </svg>\n",
              "      </button>\n",
              "      \n",
              "  <style>\n",
              "    .colab-df-container {\n",
              "      display:flex;\n",
              "      flex-wrap:wrap;\n",
              "      gap: 12px;\n",
              "    }\n",
              "\n",
              "    .colab-df-convert {\n",
              "      background-color: #E8F0FE;\n",
              "      border: none;\n",
              "      border-radius: 50%;\n",
              "      cursor: pointer;\n",
              "      display: none;\n",
              "      fill: #1967D2;\n",
              "      height: 32px;\n",
              "      padding: 0 0 0 0;\n",
              "      width: 32px;\n",
              "    }\n",
              "\n",
              "    .colab-df-convert:hover {\n",
              "      background-color: #E2EBFA;\n",
              "      box-shadow: 0px 1px 2px rgba(60, 64, 67, 0.3), 0px 1px 3px 1px rgba(60, 64, 67, 0.15);\n",
              "      fill: #174EA6;\n",
              "    }\n",
              "\n",
              "    [theme=dark] .colab-df-convert {\n",
              "      background-color: #3B4455;\n",
              "      fill: #D2E3FC;\n",
              "    }\n",
              "\n",
              "    [theme=dark] .colab-df-convert:hover {\n",
              "      background-color: #434B5C;\n",
              "      box-shadow: 0px 1px 3px 1px rgba(0, 0, 0, 0.15);\n",
              "      filter: drop-shadow(0px 1px 2px rgba(0, 0, 0, 0.3));\n",
              "      fill: #FFFFFF;\n",
              "    }\n",
              "  </style>\n",
              "\n",
              "      <script>\n",
              "        const buttonEl =\n",
              "          document.querySelector('#df-66c854ca-c460-42aa-a1fe-648ba6165786 button.colab-df-convert');\n",
              "        buttonEl.style.display =\n",
              "          google.colab.kernel.accessAllowed ? 'block' : 'none';\n",
              "\n",
              "        async function convertToInteractive(key) {\n",
              "          const element = document.querySelector('#df-66c854ca-c460-42aa-a1fe-648ba6165786');\n",
              "          const dataTable =\n",
              "            await google.colab.kernel.invokeFunction('convertToInteractive',\n",
              "                                                     [key], {});\n",
              "          if (!dataTable) return;\n",
              "\n",
              "          const docLinkHtml = 'Like what you see? Visit the ' +\n",
              "            '<a target=\"_blank\" href=https://colab.research.google.com/notebooks/data_table.ipynb>data table notebook</a>'\n",
              "            + ' to learn more about interactive tables.';\n",
              "          element.innerHTML = '';\n",
              "          dataTable['output_type'] = 'display_data';\n",
              "          await google.colab.output.renderOutput(dataTable, element);\n",
              "          const docLink = document.createElement('div');\n",
              "          docLink.innerHTML = docLinkHtml;\n",
              "          element.appendChild(docLink);\n",
              "        }\n",
              "      </script>\n",
              "    </div>\n",
              "  </div>\n",
              "  "
            ]
          },
          "metadata": {},
          "execution_count": 201
        }
      ]
    },
    {
      "cell_type": "code",
      "source": [
        "# Adicionando uma coluna candidato, para facilitar a identificação. \n",
        "dataframe_tweets_lula['Candidato'] = \"LULA\""
      ],
      "metadata": {
        "id": "inhiPEMI5Kjh"
      },
      "execution_count": null,
      "outputs": []
    },
    {
      "cell_type": "code",
      "source": [
        "#Visualizando \n",
        "dataframe_tweets_lula.head()"
      ],
      "metadata": {
        "colab": {
          "base_uri": "https://localhost:8080/",
          "height": 354
        },
        "id": "tjjICXQ65drZ",
        "outputId": "125edaea-8645-4202-8ac5-9410f61f41cc"
      },
      "execution_count": null,
      "outputs": [
        {
          "output_type": "execute_result",
          "data": {
            "text/plain": [
              "                  Data_Hora             Id_Tweet  \\\n",
              "0 2022-08-02 15:56:16+00:00  1554496311931576322   \n",
              "1 2022-08-02 15:56:16+00:00  1554496311562485760   \n",
              "2 2022-08-02 15:56:16+00:00  1554496309884772352   \n",
              "3 2022-08-02 15:56:16+00:00  1554496309771620354   \n",
              "4 2022-08-02 15:56:15+00:00  1554496306013413377   \n",
              "\n",
              "                                               Tweet Candidato  \n",
              "0               @LulaOficial https://t.co/NAhBW8Guig      LULA  \n",
              "1  @CoronelHomeroSP @LulaOficial Por que a milíci...      LULA  \n",
              "2    @MottaGal @Nilsonhandebol @LulaOficial Seguindo      LULA  \n",
              "3  @PauloBarbedo3 @RoLuchsinger Acabei esquecendo...      LULA  \n",
              "4  @brom_elisa @kimpaim @jairbolsonaro Pode até s...      LULA  "
            ],
            "text/html": [
              "\n",
              "  <div id=\"df-30714e68-7d3d-492d-81b2-cc052bd78775\">\n",
              "    <div class=\"colab-df-container\">\n",
              "      <div>\n",
              "<style scoped>\n",
              "    .dataframe tbody tr th:only-of-type {\n",
              "        vertical-align: middle;\n",
              "    }\n",
              "\n",
              "    .dataframe tbody tr th {\n",
              "        vertical-align: top;\n",
              "    }\n",
              "\n",
              "    .dataframe thead th {\n",
              "        text-align: right;\n",
              "    }\n",
              "</style>\n",
              "<table border=\"1\" class=\"dataframe\">\n",
              "  <thead>\n",
              "    <tr style=\"text-align: right;\">\n",
              "      <th></th>\n",
              "      <th>Data_Hora</th>\n",
              "      <th>Id_Tweet</th>\n",
              "      <th>Tweet</th>\n",
              "      <th>Candidato</th>\n",
              "    </tr>\n",
              "  </thead>\n",
              "  <tbody>\n",
              "    <tr>\n",
              "      <th>0</th>\n",
              "      <td>2022-08-02 15:56:16+00:00</td>\n",
              "      <td>1554496311931576322</td>\n",
              "      <td>@LulaOficial https://t.co/NAhBW8Guig</td>\n",
              "      <td>LULA</td>\n",
              "    </tr>\n",
              "    <tr>\n",
              "      <th>1</th>\n",
              "      <td>2022-08-02 15:56:16+00:00</td>\n",
              "      <td>1554496311562485760</td>\n",
              "      <td>@CoronelHomeroSP @LulaOficial Por que a milíci...</td>\n",
              "      <td>LULA</td>\n",
              "    </tr>\n",
              "    <tr>\n",
              "      <th>2</th>\n",
              "      <td>2022-08-02 15:56:16+00:00</td>\n",
              "      <td>1554496309884772352</td>\n",
              "      <td>@MottaGal @Nilsonhandebol @LulaOficial Seguindo</td>\n",
              "      <td>LULA</td>\n",
              "    </tr>\n",
              "    <tr>\n",
              "      <th>3</th>\n",
              "      <td>2022-08-02 15:56:16+00:00</td>\n",
              "      <td>1554496309771620354</td>\n",
              "      <td>@PauloBarbedo3 @RoLuchsinger Acabei esquecendo...</td>\n",
              "      <td>LULA</td>\n",
              "    </tr>\n",
              "    <tr>\n",
              "      <th>4</th>\n",
              "      <td>2022-08-02 15:56:15+00:00</td>\n",
              "      <td>1554496306013413377</td>\n",
              "      <td>@brom_elisa @kimpaim @jairbolsonaro Pode até s...</td>\n",
              "      <td>LULA</td>\n",
              "    </tr>\n",
              "  </tbody>\n",
              "</table>\n",
              "</div>\n",
              "      <button class=\"colab-df-convert\" onclick=\"convertToInteractive('df-30714e68-7d3d-492d-81b2-cc052bd78775')\"\n",
              "              title=\"Convert this dataframe to an interactive table.\"\n",
              "              style=\"display:none;\">\n",
              "        \n",
              "  <svg xmlns=\"http://www.w3.org/2000/svg\" height=\"24px\"viewBox=\"0 0 24 24\"\n",
              "       width=\"24px\">\n",
              "    <path d=\"M0 0h24v24H0V0z\" fill=\"none\"/>\n",
              "    <path d=\"M18.56 5.44l.94 2.06.94-2.06 2.06-.94-2.06-.94-.94-2.06-.94 2.06-2.06.94zm-11 1L8.5 8.5l.94-2.06 2.06-.94-2.06-.94L8.5 2.5l-.94 2.06-2.06.94zm10 10l.94 2.06.94-2.06 2.06-.94-2.06-.94-.94-2.06-.94 2.06-2.06.94z\"/><path d=\"M17.41 7.96l-1.37-1.37c-.4-.4-.92-.59-1.43-.59-.52 0-1.04.2-1.43.59L10.3 9.45l-7.72 7.72c-.78.78-.78 2.05 0 2.83L4 21.41c.39.39.9.59 1.41.59.51 0 1.02-.2 1.41-.59l7.78-7.78 2.81-2.81c.8-.78.8-2.07 0-2.86zM5.41 20L4 18.59l7.72-7.72 1.47 1.35L5.41 20z\"/>\n",
              "  </svg>\n",
              "      </button>\n",
              "      \n",
              "  <style>\n",
              "    .colab-df-container {\n",
              "      display:flex;\n",
              "      flex-wrap:wrap;\n",
              "      gap: 12px;\n",
              "    }\n",
              "\n",
              "    .colab-df-convert {\n",
              "      background-color: #E8F0FE;\n",
              "      border: none;\n",
              "      border-radius: 50%;\n",
              "      cursor: pointer;\n",
              "      display: none;\n",
              "      fill: #1967D2;\n",
              "      height: 32px;\n",
              "      padding: 0 0 0 0;\n",
              "      width: 32px;\n",
              "    }\n",
              "\n",
              "    .colab-df-convert:hover {\n",
              "      background-color: #E2EBFA;\n",
              "      box-shadow: 0px 1px 2px rgba(60, 64, 67, 0.3), 0px 1px 3px 1px rgba(60, 64, 67, 0.15);\n",
              "      fill: #174EA6;\n",
              "    }\n",
              "\n",
              "    [theme=dark] .colab-df-convert {\n",
              "      background-color: #3B4455;\n",
              "      fill: #D2E3FC;\n",
              "    }\n",
              "\n",
              "    [theme=dark] .colab-df-convert:hover {\n",
              "      background-color: #434B5C;\n",
              "      box-shadow: 0px 1px 3px 1px rgba(0, 0, 0, 0.15);\n",
              "      filter: drop-shadow(0px 1px 2px rgba(0, 0, 0, 0.3));\n",
              "      fill: #FFFFFF;\n",
              "    }\n",
              "  </style>\n",
              "\n",
              "      <script>\n",
              "        const buttonEl =\n",
              "          document.querySelector('#df-30714e68-7d3d-492d-81b2-cc052bd78775 button.colab-df-convert');\n",
              "        buttonEl.style.display =\n",
              "          google.colab.kernel.accessAllowed ? 'block' : 'none';\n",
              "\n",
              "        async function convertToInteractive(key) {\n",
              "          const element = document.querySelector('#df-30714e68-7d3d-492d-81b2-cc052bd78775');\n",
              "          const dataTable =\n",
              "            await google.colab.kernel.invokeFunction('convertToInteractive',\n",
              "                                                     [key], {});\n",
              "          if (!dataTable) return;\n",
              "\n",
              "          const docLinkHtml = 'Like what you see? Visit the ' +\n",
              "            '<a target=\"_blank\" href=https://colab.research.google.com/notebooks/data_table.ipynb>data table notebook</a>'\n",
              "            + ' to learn more about interactive tables.';\n",
              "          element.innerHTML = '';\n",
              "          dataTable['output_type'] = 'display_data';\n",
              "          await google.colab.output.renderOutput(dataTable, element);\n",
              "          const docLink = document.createElement('div');\n",
              "          docLink.innerHTML = docLinkHtml;\n",
              "          element.appendChild(docLink);\n",
              "        }\n",
              "      </script>\n",
              "    </div>\n",
              "  </div>\n",
              "  "
            ]
          },
          "metadata": {},
          "execution_count": 203
        }
      ]
    },
    {
      "cell_type": "markdown",
      "source": [
        "### Bolsonaro"
      ],
      "metadata": {
        "id": "V4TCmTXw6EbQ"
      }
    },
    {
      "cell_type": "code",
      "source": [
        "lista_de_tweets_bolsonaro = []"
      ],
      "metadata": {
        "id": "O1EnZTrz6HC3"
      },
      "execution_count": null,
      "outputs": []
    },
    {
      "cell_type": "code",
      "source": [
        "# O i percorre os tweets, que a biblioteca busca, até o valor atribuido ao máximo de tweets.\n",
        "for i, tweet in enumerate(sntwitter.TwitterSearchScraper(['bolsonaro']).get_items()):\n",
        "  if i > maximo_de_tweets:\n",
        "    break\n",
        "  lista_de_tweets_bolsonaro.append([tweet.date, tweet.id, tweet.content])"
      ],
      "metadata": {
        "id": "JvPbfssd6XOl"
      },
      "execution_count": null,
      "outputs": []
    },
    {
      "cell_type": "code",
      "source": [
        "# Tranformando em um Data Frame. \n",
        "dataframe_tweets_bolsonaro = pd.DataFrame(lista_de_tweets_bolsonaro, columns=['Data_Hora', 'Id_Tweet', 'Tweet'])"
      ],
      "metadata": {
        "id": "5N2QwKGh6mBx"
      },
      "execution_count": null,
      "outputs": []
    },
    {
      "cell_type": "code",
      "source": [
        "#Visualizando\n",
        "dataframe_tweets_bolsonaro.head()"
      ],
      "metadata": {
        "colab": {
          "base_uri": "https://localhost:8080/",
          "height": 337
        },
        "id": "vCXqKLDO7qq_",
        "outputId": "47291f58-d012-4985-9f9b-e646126d1ab2"
      },
      "execution_count": null,
      "outputs": [
        {
          "output_type": "execute_result",
          "data": {
            "text/plain": [
              "                  Data_Hora             Id_Tweet  \\\n",
              "0 2022-08-02 15:57:00+00:00  1554496498150346752   \n",
              "1 2022-08-02 15:57:00+00:00  1554496498049622016   \n",
              "2 2022-08-02 15:56:59+00:00  1554496493427560448   \n",
              "3 2022-08-02 15:56:58+00:00  1554496489782755329   \n",
              "4 2022-08-02 15:56:58+00:00  1554496488788488197   \n",
              "\n",
              "                                               Tweet  \n",
              "0          @jairbolsonaro Grandissimo @jairbolsonaro  \n",
              "1  CORNOS FECHADOS COM BOLSONARO?? https://t.co/e...  \n",
              "2  @paulocoelho  resolveu lacrar e mostrar sua ve...  \n",
              "3  @FlavioBolsonaro @brom_elisa Flavio teve uma i...  \n",
              "4  Bolsonaro Torches Leonardo DiCaprio, ‘Greta Ti...  "
            ],
            "text/html": [
              "\n",
              "  <div id=\"df-b24a7e99-e5a2-4ad1-a0ef-7622bdd05e45\">\n",
              "    <div class=\"colab-df-container\">\n",
              "      <div>\n",
              "<style scoped>\n",
              "    .dataframe tbody tr th:only-of-type {\n",
              "        vertical-align: middle;\n",
              "    }\n",
              "\n",
              "    .dataframe tbody tr th {\n",
              "        vertical-align: top;\n",
              "    }\n",
              "\n",
              "    .dataframe thead th {\n",
              "        text-align: right;\n",
              "    }\n",
              "</style>\n",
              "<table border=\"1\" class=\"dataframe\">\n",
              "  <thead>\n",
              "    <tr style=\"text-align: right;\">\n",
              "      <th></th>\n",
              "      <th>Data_Hora</th>\n",
              "      <th>Id_Tweet</th>\n",
              "      <th>Tweet</th>\n",
              "    </tr>\n",
              "  </thead>\n",
              "  <tbody>\n",
              "    <tr>\n",
              "      <th>0</th>\n",
              "      <td>2022-08-02 15:57:00+00:00</td>\n",
              "      <td>1554496498150346752</td>\n",
              "      <td>@jairbolsonaro Grandissimo @jairbolsonaro</td>\n",
              "    </tr>\n",
              "    <tr>\n",
              "      <th>1</th>\n",
              "      <td>2022-08-02 15:57:00+00:00</td>\n",
              "      <td>1554496498049622016</td>\n",
              "      <td>CORNOS FECHADOS COM BOLSONARO?? https://t.co/e...</td>\n",
              "    </tr>\n",
              "    <tr>\n",
              "      <th>2</th>\n",
              "      <td>2022-08-02 15:56:59+00:00</td>\n",
              "      <td>1554496493427560448</td>\n",
              "      <td>@paulocoelho  resolveu lacrar e mostrar sua ve...</td>\n",
              "    </tr>\n",
              "    <tr>\n",
              "      <th>3</th>\n",
              "      <td>2022-08-02 15:56:58+00:00</td>\n",
              "      <td>1554496489782755329</td>\n",
              "      <td>@FlavioBolsonaro @brom_elisa Flavio teve uma i...</td>\n",
              "    </tr>\n",
              "    <tr>\n",
              "      <th>4</th>\n",
              "      <td>2022-08-02 15:56:58+00:00</td>\n",
              "      <td>1554496488788488197</td>\n",
              "      <td>Bolsonaro Torches Leonardo DiCaprio, ‘Greta Ti...</td>\n",
              "    </tr>\n",
              "  </tbody>\n",
              "</table>\n",
              "</div>\n",
              "      <button class=\"colab-df-convert\" onclick=\"convertToInteractive('df-b24a7e99-e5a2-4ad1-a0ef-7622bdd05e45')\"\n",
              "              title=\"Convert this dataframe to an interactive table.\"\n",
              "              style=\"display:none;\">\n",
              "        \n",
              "  <svg xmlns=\"http://www.w3.org/2000/svg\" height=\"24px\"viewBox=\"0 0 24 24\"\n",
              "       width=\"24px\">\n",
              "    <path d=\"M0 0h24v24H0V0z\" fill=\"none\"/>\n",
              "    <path d=\"M18.56 5.44l.94 2.06.94-2.06 2.06-.94-2.06-.94-.94-2.06-.94 2.06-2.06.94zm-11 1L8.5 8.5l.94-2.06 2.06-.94-2.06-.94L8.5 2.5l-.94 2.06-2.06.94zm10 10l.94 2.06.94-2.06 2.06-.94-2.06-.94-.94-2.06-.94 2.06-2.06.94z\"/><path d=\"M17.41 7.96l-1.37-1.37c-.4-.4-.92-.59-1.43-.59-.52 0-1.04.2-1.43.59L10.3 9.45l-7.72 7.72c-.78.78-.78 2.05 0 2.83L4 21.41c.39.39.9.59 1.41.59.51 0 1.02-.2 1.41-.59l7.78-7.78 2.81-2.81c.8-.78.8-2.07 0-2.86zM5.41 20L4 18.59l7.72-7.72 1.47 1.35L5.41 20z\"/>\n",
              "  </svg>\n",
              "      </button>\n",
              "      \n",
              "  <style>\n",
              "    .colab-df-container {\n",
              "      display:flex;\n",
              "      flex-wrap:wrap;\n",
              "      gap: 12px;\n",
              "    }\n",
              "\n",
              "    .colab-df-convert {\n",
              "      background-color: #E8F0FE;\n",
              "      border: none;\n",
              "      border-radius: 50%;\n",
              "      cursor: pointer;\n",
              "      display: none;\n",
              "      fill: #1967D2;\n",
              "      height: 32px;\n",
              "      padding: 0 0 0 0;\n",
              "      width: 32px;\n",
              "    }\n",
              "\n",
              "    .colab-df-convert:hover {\n",
              "      background-color: #E2EBFA;\n",
              "      box-shadow: 0px 1px 2px rgba(60, 64, 67, 0.3), 0px 1px 3px 1px rgba(60, 64, 67, 0.15);\n",
              "      fill: #174EA6;\n",
              "    }\n",
              "\n",
              "    [theme=dark] .colab-df-convert {\n",
              "      background-color: #3B4455;\n",
              "      fill: #D2E3FC;\n",
              "    }\n",
              "\n",
              "    [theme=dark] .colab-df-convert:hover {\n",
              "      background-color: #434B5C;\n",
              "      box-shadow: 0px 1px 3px 1px rgba(0, 0, 0, 0.15);\n",
              "      filter: drop-shadow(0px 1px 2px rgba(0, 0, 0, 0.3));\n",
              "      fill: #FFFFFF;\n",
              "    }\n",
              "  </style>\n",
              "\n",
              "      <script>\n",
              "        const buttonEl =\n",
              "          document.querySelector('#df-b24a7e99-e5a2-4ad1-a0ef-7622bdd05e45 button.colab-df-convert');\n",
              "        buttonEl.style.display =\n",
              "          google.colab.kernel.accessAllowed ? 'block' : 'none';\n",
              "\n",
              "        async function convertToInteractive(key) {\n",
              "          const element = document.querySelector('#df-b24a7e99-e5a2-4ad1-a0ef-7622bdd05e45');\n",
              "          const dataTable =\n",
              "            await google.colab.kernel.invokeFunction('convertToInteractive',\n",
              "                                                     [key], {});\n",
              "          if (!dataTable) return;\n",
              "\n",
              "          const docLinkHtml = 'Like what you see? Visit the ' +\n",
              "            '<a target=\"_blank\" href=https://colab.research.google.com/notebooks/data_table.ipynb>data table notebook</a>'\n",
              "            + ' to learn more about interactive tables.';\n",
              "          element.innerHTML = '';\n",
              "          dataTable['output_type'] = 'display_data';\n",
              "          await google.colab.output.renderOutput(dataTable, element);\n",
              "          const docLink = document.createElement('div');\n",
              "          docLink.innerHTML = docLinkHtml;\n",
              "          element.appendChild(docLink);\n",
              "        }\n",
              "      </script>\n",
              "    </div>\n",
              "  </div>\n",
              "  "
            ]
          },
          "metadata": {},
          "execution_count": 207
        }
      ]
    },
    {
      "cell_type": "code",
      "source": [
        "# Adicionando a coluna candidato para melhorar a visualização. \n",
        "dataframe_tweets_bolsonaro['Candidato'] = \"BOLSONARO\""
      ],
      "metadata": {
        "id": "vDEEUMIu7uWL"
      },
      "execution_count": null,
      "outputs": []
    },
    {
      "cell_type": "code",
      "source": [
        "#Visualizando \n",
        "dataframe_tweets_bolsonaro.head()"
      ],
      "metadata": {
        "colab": {
          "base_uri": "https://localhost:8080/",
          "height": 372
        },
        "id": "xXKq_WwX8f_F",
        "outputId": "e258495c-41b5-4c92-fefa-526e933d6a92"
      },
      "execution_count": null,
      "outputs": [
        {
          "output_type": "execute_result",
          "data": {
            "text/plain": [
              "                  Data_Hora             Id_Tweet  \\\n",
              "0 2022-08-02 15:57:00+00:00  1554496498150346752   \n",
              "1 2022-08-02 15:57:00+00:00  1554496498049622016   \n",
              "2 2022-08-02 15:56:59+00:00  1554496493427560448   \n",
              "3 2022-08-02 15:56:58+00:00  1554496489782755329   \n",
              "4 2022-08-02 15:56:58+00:00  1554496488788488197   \n",
              "\n",
              "                                               Tweet  Candidato  \n",
              "0          @jairbolsonaro Grandissimo @jairbolsonaro  BOLSONARO  \n",
              "1  CORNOS FECHADOS COM BOLSONARO?? https://t.co/e...  BOLSONARO  \n",
              "2  @paulocoelho  resolveu lacrar e mostrar sua ve...  BOLSONARO  \n",
              "3  @FlavioBolsonaro @brom_elisa Flavio teve uma i...  BOLSONARO  \n",
              "4  Bolsonaro Torches Leonardo DiCaprio, ‘Greta Ti...  BOLSONARO  "
            ],
            "text/html": [
              "\n",
              "  <div id=\"df-1b8e6f12-8636-49c1-a164-06ace6182008\">\n",
              "    <div class=\"colab-df-container\">\n",
              "      <div>\n",
              "<style scoped>\n",
              "    .dataframe tbody tr th:only-of-type {\n",
              "        vertical-align: middle;\n",
              "    }\n",
              "\n",
              "    .dataframe tbody tr th {\n",
              "        vertical-align: top;\n",
              "    }\n",
              "\n",
              "    .dataframe thead th {\n",
              "        text-align: right;\n",
              "    }\n",
              "</style>\n",
              "<table border=\"1\" class=\"dataframe\">\n",
              "  <thead>\n",
              "    <tr style=\"text-align: right;\">\n",
              "      <th></th>\n",
              "      <th>Data_Hora</th>\n",
              "      <th>Id_Tweet</th>\n",
              "      <th>Tweet</th>\n",
              "      <th>Candidato</th>\n",
              "    </tr>\n",
              "  </thead>\n",
              "  <tbody>\n",
              "    <tr>\n",
              "      <th>0</th>\n",
              "      <td>2022-08-02 15:57:00+00:00</td>\n",
              "      <td>1554496498150346752</td>\n",
              "      <td>@jairbolsonaro Grandissimo @jairbolsonaro</td>\n",
              "      <td>BOLSONARO</td>\n",
              "    </tr>\n",
              "    <tr>\n",
              "      <th>1</th>\n",
              "      <td>2022-08-02 15:57:00+00:00</td>\n",
              "      <td>1554496498049622016</td>\n",
              "      <td>CORNOS FECHADOS COM BOLSONARO?? https://t.co/e...</td>\n",
              "      <td>BOLSONARO</td>\n",
              "    </tr>\n",
              "    <tr>\n",
              "      <th>2</th>\n",
              "      <td>2022-08-02 15:56:59+00:00</td>\n",
              "      <td>1554496493427560448</td>\n",
              "      <td>@paulocoelho  resolveu lacrar e mostrar sua ve...</td>\n",
              "      <td>BOLSONARO</td>\n",
              "    </tr>\n",
              "    <tr>\n",
              "      <th>3</th>\n",
              "      <td>2022-08-02 15:56:58+00:00</td>\n",
              "      <td>1554496489782755329</td>\n",
              "      <td>@FlavioBolsonaro @brom_elisa Flavio teve uma i...</td>\n",
              "      <td>BOLSONARO</td>\n",
              "    </tr>\n",
              "    <tr>\n",
              "      <th>4</th>\n",
              "      <td>2022-08-02 15:56:58+00:00</td>\n",
              "      <td>1554496488788488197</td>\n",
              "      <td>Bolsonaro Torches Leonardo DiCaprio, ‘Greta Ti...</td>\n",
              "      <td>BOLSONARO</td>\n",
              "    </tr>\n",
              "  </tbody>\n",
              "</table>\n",
              "</div>\n",
              "      <button class=\"colab-df-convert\" onclick=\"convertToInteractive('df-1b8e6f12-8636-49c1-a164-06ace6182008')\"\n",
              "              title=\"Convert this dataframe to an interactive table.\"\n",
              "              style=\"display:none;\">\n",
              "        \n",
              "  <svg xmlns=\"http://www.w3.org/2000/svg\" height=\"24px\"viewBox=\"0 0 24 24\"\n",
              "       width=\"24px\">\n",
              "    <path d=\"M0 0h24v24H0V0z\" fill=\"none\"/>\n",
              "    <path d=\"M18.56 5.44l.94 2.06.94-2.06 2.06-.94-2.06-.94-.94-2.06-.94 2.06-2.06.94zm-11 1L8.5 8.5l.94-2.06 2.06-.94-2.06-.94L8.5 2.5l-.94 2.06-2.06.94zm10 10l.94 2.06.94-2.06 2.06-.94-2.06-.94-.94-2.06-.94 2.06-2.06.94z\"/><path d=\"M17.41 7.96l-1.37-1.37c-.4-.4-.92-.59-1.43-.59-.52 0-1.04.2-1.43.59L10.3 9.45l-7.72 7.72c-.78.78-.78 2.05 0 2.83L4 21.41c.39.39.9.59 1.41.59.51 0 1.02-.2 1.41-.59l7.78-7.78 2.81-2.81c.8-.78.8-2.07 0-2.86zM5.41 20L4 18.59l7.72-7.72 1.47 1.35L5.41 20z\"/>\n",
              "  </svg>\n",
              "      </button>\n",
              "      \n",
              "  <style>\n",
              "    .colab-df-container {\n",
              "      display:flex;\n",
              "      flex-wrap:wrap;\n",
              "      gap: 12px;\n",
              "    }\n",
              "\n",
              "    .colab-df-convert {\n",
              "      background-color: #E8F0FE;\n",
              "      border: none;\n",
              "      border-radius: 50%;\n",
              "      cursor: pointer;\n",
              "      display: none;\n",
              "      fill: #1967D2;\n",
              "      height: 32px;\n",
              "      padding: 0 0 0 0;\n",
              "      width: 32px;\n",
              "    }\n",
              "\n",
              "    .colab-df-convert:hover {\n",
              "      background-color: #E2EBFA;\n",
              "      box-shadow: 0px 1px 2px rgba(60, 64, 67, 0.3), 0px 1px 3px 1px rgba(60, 64, 67, 0.15);\n",
              "      fill: #174EA6;\n",
              "    }\n",
              "\n",
              "    [theme=dark] .colab-df-convert {\n",
              "      background-color: #3B4455;\n",
              "      fill: #D2E3FC;\n",
              "    }\n",
              "\n",
              "    [theme=dark] .colab-df-convert:hover {\n",
              "      background-color: #434B5C;\n",
              "      box-shadow: 0px 1px 3px 1px rgba(0, 0, 0, 0.15);\n",
              "      filter: drop-shadow(0px 1px 2px rgba(0, 0, 0, 0.3));\n",
              "      fill: #FFFFFF;\n",
              "    }\n",
              "  </style>\n",
              "\n",
              "      <script>\n",
              "        const buttonEl =\n",
              "          document.querySelector('#df-1b8e6f12-8636-49c1-a164-06ace6182008 button.colab-df-convert');\n",
              "        buttonEl.style.display =\n",
              "          google.colab.kernel.accessAllowed ? 'block' : 'none';\n",
              "\n",
              "        async function convertToInteractive(key) {\n",
              "          const element = document.querySelector('#df-1b8e6f12-8636-49c1-a164-06ace6182008');\n",
              "          const dataTable =\n",
              "            await google.colab.kernel.invokeFunction('convertToInteractive',\n",
              "                                                     [key], {});\n",
              "          if (!dataTable) return;\n",
              "\n",
              "          const docLinkHtml = 'Like what you see? Visit the ' +\n",
              "            '<a target=\"_blank\" href=https://colab.research.google.com/notebooks/data_table.ipynb>data table notebook</a>'\n",
              "            + ' to learn more about interactive tables.';\n",
              "          element.innerHTML = '';\n",
              "          dataTable['output_type'] = 'display_data';\n",
              "          await google.colab.output.renderOutput(dataTable, element);\n",
              "          const docLink = document.createElement('div');\n",
              "          docLink.innerHTML = docLinkHtml;\n",
              "          element.appendChild(docLink);\n",
              "        }\n",
              "      </script>\n",
              "    </div>\n",
              "  </div>\n",
              "  "
            ]
          },
          "metadata": {},
          "execution_count": 209
        }
      ]
    },
    {
      "cell_type": "markdown",
      "source": [
        "### Ciro Gomes\n"
      ],
      "metadata": {
        "id": "0vVHvv0n9Bj-"
      }
    },
    {
      "cell_type": "code",
      "source": [
        "lista_tweets_ciro = []"
      ],
      "metadata": {
        "id": "P8tXqBDR9Ec9"
      },
      "execution_count": null,
      "outputs": []
    },
    {
      "cell_type": "code",
      "source": [
        "# O i percorre os tweets, que a biblioteca busca, até o valor atribuido ao máximo de tweets.\n",
        "for i, tweet in enumerate(sntwitter.TwitterSearchScraper(['ciro gomes']).get_items()):\n",
        "  if i > maximo_de_tweets:\n",
        "    break\n",
        "  lista_tweets_ciro.append([tweet.date, tweet.id, tweet.content])"
      ],
      "metadata": {
        "id": "9aNnDgHW-0Q2"
      },
      "execution_count": null,
      "outputs": []
    },
    {
      "cell_type": "code",
      "source": [
        "#Criando df ciro \n",
        "dataframe_tweets_ciro = pd.DataFrame(lista_tweets_ciro, columns=['Data_Hora', 'Id_Tweet', 'Tweet'])"
      ],
      "metadata": {
        "id": "iWLo04iJ--2m"
      },
      "execution_count": null,
      "outputs": []
    },
    {
      "cell_type": "code",
      "source": [
        "# Adicionando a coluna candidato para melhorar a visualização. \n",
        "dataframe_tweets_ciro['Candidato'] = \"CIRO GOMES\""
      ],
      "metadata": {
        "id": "GTtmL76t_L7M"
      },
      "execution_count": null,
      "outputs": []
    },
    {
      "cell_type": "code",
      "source": [
        "#Visualizando \n",
        "dataframe_tweets_ciro.head()"
      ],
      "metadata": {
        "colab": {
          "base_uri": "https://localhost:8080/",
          "height": 372
        },
        "id": "OFA0ejYX_XLO",
        "outputId": "97293add-feb1-4f10-8330-2ccfeed6a1e9"
      },
      "execution_count": null,
      "outputs": [
        {
          "output_type": "execute_result",
          "data": {
            "text/plain": [
              "                  Data_Hora             Id_Tweet  \\\n",
              "0 2022-08-02 15:57:07+00:00  1554496527304900608   \n",
              "1 2022-08-02 15:56:55+00:00  1554496473450020864   \n",
              "2 2022-08-02 15:56:47+00:00  1554496443104231426   \n",
              "3 2022-08-02 15:56:36+00:00  1554496396824379393   \n",
              "4 2022-08-02 15:56:07+00:00  1554496274791297024   \n",
              "\n",
              "                                               Tweet   Candidato  \n",
              "0  @cirogomes O q q Ciro Nogueira tava fazendo na...  CIRO GOMES  \n",
              "1  @dasilvabenedita @todoscomciro @cirogomes Vous...  CIRO GOMES  \n",
              "2  @RenanOitavo @BrennoSarques @FelipePinheiroE @...  CIRO GOMES  \n",
              "3  @cirogomes habla mesmo cirinho vamos de 12 htt...  CIRO GOMES  \n",
              "4  @cirogomes 1998, Ciro. 1989 FHC não foi candid...  CIRO GOMES  "
            ],
            "text/html": [
              "\n",
              "  <div id=\"df-8268540c-c102-4235-8dba-846add5c1ac3\">\n",
              "    <div class=\"colab-df-container\">\n",
              "      <div>\n",
              "<style scoped>\n",
              "    .dataframe tbody tr th:only-of-type {\n",
              "        vertical-align: middle;\n",
              "    }\n",
              "\n",
              "    .dataframe tbody tr th {\n",
              "        vertical-align: top;\n",
              "    }\n",
              "\n",
              "    .dataframe thead th {\n",
              "        text-align: right;\n",
              "    }\n",
              "</style>\n",
              "<table border=\"1\" class=\"dataframe\">\n",
              "  <thead>\n",
              "    <tr style=\"text-align: right;\">\n",
              "      <th></th>\n",
              "      <th>Data_Hora</th>\n",
              "      <th>Id_Tweet</th>\n",
              "      <th>Tweet</th>\n",
              "      <th>Candidato</th>\n",
              "    </tr>\n",
              "  </thead>\n",
              "  <tbody>\n",
              "    <tr>\n",
              "      <th>0</th>\n",
              "      <td>2022-08-02 15:57:07+00:00</td>\n",
              "      <td>1554496527304900608</td>\n",
              "      <td>@cirogomes O q q Ciro Nogueira tava fazendo na...</td>\n",
              "      <td>CIRO GOMES</td>\n",
              "    </tr>\n",
              "    <tr>\n",
              "      <th>1</th>\n",
              "      <td>2022-08-02 15:56:55+00:00</td>\n",
              "      <td>1554496473450020864</td>\n",
              "      <td>@dasilvabenedita @todoscomciro @cirogomes Vous...</td>\n",
              "      <td>CIRO GOMES</td>\n",
              "    </tr>\n",
              "    <tr>\n",
              "      <th>2</th>\n",
              "      <td>2022-08-02 15:56:47+00:00</td>\n",
              "      <td>1554496443104231426</td>\n",
              "      <td>@RenanOitavo @BrennoSarques @FelipePinheiroE @...</td>\n",
              "      <td>CIRO GOMES</td>\n",
              "    </tr>\n",
              "    <tr>\n",
              "      <th>3</th>\n",
              "      <td>2022-08-02 15:56:36+00:00</td>\n",
              "      <td>1554496396824379393</td>\n",
              "      <td>@cirogomes habla mesmo cirinho vamos de 12 htt...</td>\n",
              "      <td>CIRO GOMES</td>\n",
              "    </tr>\n",
              "    <tr>\n",
              "      <th>4</th>\n",
              "      <td>2022-08-02 15:56:07+00:00</td>\n",
              "      <td>1554496274791297024</td>\n",
              "      <td>@cirogomes 1998, Ciro. 1989 FHC não foi candid...</td>\n",
              "      <td>CIRO GOMES</td>\n",
              "    </tr>\n",
              "  </tbody>\n",
              "</table>\n",
              "</div>\n",
              "      <button class=\"colab-df-convert\" onclick=\"convertToInteractive('df-8268540c-c102-4235-8dba-846add5c1ac3')\"\n",
              "              title=\"Convert this dataframe to an interactive table.\"\n",
              "              style=\"display:none;\">\n",
              "        \n",
              "  <svg xmlns=\"http://www.w3.org/2000/svg\" height=\"24px\"viewBox=\"0 0 24 24\"\n",
              "       width=\"24px\">\n",
              "    <path d=\"M0 0h24v24H0V0z\" fill=\"none\"/>\n",
              "    <path d=\"M18.56 5.44l.94 2.06.94-2.06 2.06-.94-2.06-.94-.94-2.06-.94 2.06-2.06.94zm-11 1L8.5 8.5l.94-2.06 2.06-.94-2.06-.94L8.5 2.5l-.94 2.06-2.06.94zm10 10l.94 2.06.94-2.06 2.06-.94-2.06-.94-.94-2.06-.94 2.06-2.06.94z\"/><path d=\"M17.41 7.96l-1.37-1.37c-.4-.4-.92-.59-1.43-.59-.52 0-1.04.2-1.43.59L10.3 9.45l-7.72 7.72c-.78.78-.78 2.05 0 2.83L4 21.41c.39.39.9.59 1.41.59.51 0 1.02-.2 1.41-.59l7.78-7.78 2.81-2.81c.8-.78.8-2.07 0-2.86zM5.41 20L4 18.59l7.72-7.72 1.47 1.35L5.41 20z\"/>\n",
              "  </svg>\n",
              "      </button>\n",
              "      \n",
              "  <style>\n",
              "    .colab-df-container {\n",
              "      display:flex;\n",
              "      flex-wrap:wrap;\n",
              "      gap: 12px;\n",
              "    }\n",
              "\n",
              "    .colab-df-convert {\n",
              "      background-color: #E8F0FE;\n",
              "      border: none;\n",
              "      border-radius: 50%;\n",
              "      cursor: pointer;\n",
              "      display: none;\n",
              "      fill: #1967D2;\n",
              "      height: 32px;\n",
              "      padding: 0 0 0 0;\n",
              "      width: 32px;\n",
              "    }\n",
              "\n",
              "    .colab-df-convert:hover {\n",
              "      background-color: #E2EBFA;\n",
              "      box-shadow: 0px 1px 2px rgba(60, 64, 67, 0.3), 0px 1px 3px 1px rgba(60, 64, 67, 0.15);\n",
              "      fill: #174EA6;\n",
              "    }\n",
              "\n",
              "    [theme=dark] .colab-df-convert {\n",
              "      background-color: #3B4455;\n",
              "      fill: #D2E3FC;\n",
              "    }\n",
              "\n",
              "    [theme=dark] .colab-df-convert:hover {\n",
              "      background-color: #434B5C;\n",
              "      box-shadow: 0px 1px 3px 1px rgba(0, 0, 0, 0.15);\n",
              "      filter: drop-shadow(0px 1px 2px rgba(0, 0, 0, 0.3));\n",
              "      fill: #FFFFFF;\n",
              "    }\n",
              "  </style>\n",
              "\n",
              "      <script>\n",
              "        const buttonEl =\n",
              "          document.querySelector('#df-8268540c-c102-4235-8dba-846add5c1ac3 button.colab-df-convert');\n",
              "        buttonEl.style.display =\n",
              "          google.colab.kernel.accessAllowed ? 'block' : 'none';\n",
              "\n",
              "        async function convertToInteractive(key) {\n",
              "          const element = document.querySelector('#df-8268540c-c102-4235-8dba-846add5c1ac3');\n",
              "          const dataTable =\n",
              "            await google.colab.kernel.invokeFunction('convertToInteractive',\n",
              "                                                     [key], {});\n",
              "          if (!dataTable) return;\n",
              "\n",
              "          const docLinkHtml = 'Like what you see? Visit the ' +\n",
              "            '<a target=\"_blank\" href=https://colab.research.google.com/notebooks/data_table.ipynb>data table notebook</a>'\n",
              "            + ' to learn more about interactive tables.';\n",
              "          element.innerHTML = '';\n",
              "          dataTable['output_type'] = 'display_data';\n",
              "          await google.colab.output.renderOutput(dataTable, element);\n",
              "          const docLink = document.createElement('div');\n",
              "          docLink.innerHTML = docLinkHtml;\n",
              "          element.appendChild(docLink);\n",
              "        }\n",
              "      </script>\n",
              "    </div>\n",
              "  </div>\n",
              "  "
            ]
          },
          "metadata": {},
          "execution_count": 214
        }
      ]
    },
    {
      "cell_type": "markdown",
      "source": [
        "#### André Janones"
      ],
      "metadata": {
        "id": "Qka5ADFwAF4f"
      }
    },
    {
      "cell_type": "code",
      "source": [
        "lista_tweets_andre = []"
      ],
      "metadata": {
        "id": "r156bkVi_hol"
      },
      "execution_count": null,
      "outputs": []
    },
    {
      "cell_type": "code",
      "source": [
        "# O i percorre os tweets, que a biblioteca busca, até o valor atribuido ao máximo de tweets.\n",
        "for i, tweet in enumerate(sntwitter.TwitterSearchScraper(['andre janones']).get_items()):\n",
        "  if i > maximo_de_tweets:\n",
        "    break\n",
        "  lista_tweets_andre.append([tweet.date, tweet.id, tweet.content])"
      ],
      "metadata": {
        "id": "WsQHDnHIAPCe"
      },
      "execution_count": null,
      "outputs": []
    },
    {
      "cell_type": "code",
      "source": [
        "#Criando df andre janones\n",
        "dataframe_tweets_andre = pd.DataFrame(lista_tweets_andre, columns=['Data_Hora', 'Id_Tweet', 'Tweet'])"
      ],
      "metadata": {
        "id": "iDj-66C-AUPG"
      },
      "execution_count": null,
      "outputs": []
    },
    {
      "cell_type": "code",
      "source": [
        "# Adicionando a coluna candidato para melhorar a visualização. \n",
        "dataframe_tweets_andre['Candidato'] = \"André Janones\""
      ],
      "metadata": {
        "id": "JYSDKuRQAbSF"
      },
      "execution_count": null,
      "outputs": []
    },
    {
      "cell_type": "code",
      "source": [
        "#Visualizando \n",
        "dataframe_tweets_andre.head()"
      ],
      "metadata": {
        "colab": {
          "base_uri": "https://localhost:8080/",
          "height": 354
        },
        "id": "p8OLR3SfAgvN",
        "outputId": "a8215ac1-2591-4022-ded8-f419cd609497"
      },
      "execution_count": null,
      "outputs": [
        {
          "output_type": "execute_result",
          "data": {
            "text/plain": [
              "                  Data_Hora             Id_Tweet  \\\n",
              "0 2022-08-02 15:56:04+00:00  1554496261209919489   \n",
              "1 2022-08-02 15:50:11+00:00  1554494779400114177   \n",
              "2 2022-08-02 15:28:58+00:00  1554489442408321024   \n",
              "3 2022-08-02 15:09:33+00:00  1554484556002205699   \n",
              "4 2022-08-02 15:07:34+00:00  1554484055793614850   \n",
              "\n",
              "                                               Tweet      Candidato  \n",
              "0  A participação de Bolsonaro ocorreria em 22 de...  André Janones  \n",
              "1  escrevendo sobre meu assunto favorito (governo...  André Janones  \n",
              "2  ELE É UM APOIO PESADÍSSMO A CAMPANHA DE @LulaO...  André Janones  \n",
              "3  PT incorpora propostas de André Janones, que d...  André Janones  \n",
              "4  PT incorpora propostas de André Janones, que d...  André Janones  "
            ],
            "text/html": [
              "\n",
              "  <div id=\"df-696f0c3d-347f-4b0d-8dd8-7d5be69ebd14\">\n",
              "    <div class=\"colab-df-container\">\n",
              "      <div>\n",
              "<style scoped>\n",
              "    .dataframe tbody tr th:only-of-type {\n",
              "        vertical-align: middle;\n",
              "    }\n",
              "\n",
              "    .dataframe tbody tr th {\n",
              "        vertical-align: top;\n",
              "    }\n",
              "\n",
              "    .dataframe thead th {\n",
              "        text-align: right;\n",
              "    }\n",
              "</style>\n",
              "<table border=\"1\" class=\"dataframe\">\n",
              "  <thead>\n",
              "    <tr style=\"text-align: right;\">\n",
              "      <th></th>\n",
              "      <th>Data_Hora</th>\n",
              "      <th>Id_Tweet</th>\n",
              "      <th>Tweet</th>\n",
              "      <th>Candidato</th>\n",
              "    </tr>\n",
              "  </thead>\n",
              "  <tbody>\n",
              "    <tr>\n",
              "      <th>0</th>\n",
              "      <td>2022-08-02 15:56:04+00:00</td>\n",
              "      <td>1554496261209919489</td>\n",
              "      <td>A participação de Bolsonaro ocorreria em 22 de...</td>\n",
              "      <td>André Janones</td>\n",
              "    </tr>\n",
              "    <tr>\n",
              "      <th>1</th>\n",
              "      <td>2022-08-02 15:50:11+00:00</td>\n",
              "      <td>1554494779400114177</td>\n",
              "      <td>escrevendo sobre meu assunto favorito (governo...</td>\n",
              "      <td>André Janones</td>\n",
              "    </tr>\n",
              "    <tr>\n",
              "      <th>2</th>\n",
              "      <td>2022-08-02 15:28:58+00:00</td>\n",
              "      <td>1554489442408321024</td>\n",
              "      <td>ELE É UM APOIO PESADÍSSMO A CAMPANHA DE @LulaO...</td>\n",
              "      <td>André Janones</td>\n",
              "    </tr>\n",
              "    <tr>\n",
              "      <th>3</th>\n",
              "      <td>2022-08-02 15:09:33+00:00</td>\n",
              "      <td>1554484556002205699</td>\n",
              "      <td>PT incorpora propostas de André Janones, que d...</td>\n",
              "      <td>André Janones</td>\n",
              "    </tr>\n",
              "    <tr>\n",
              "      <th>4</th>\n",
              "      <td>2022-08-02 15:07:34+00:00</td>\n",
              "      <td>1554484055793614850</td>\n",
              "      <td>PT incorpora propostas de André Janones, que d...</td>\n",
              "      <td>André Janones</td>\n",
              "    </tr>\n",
              "  </tbody>\n",
              "</table>\n",
              "</div>\n",
              "      <button class=\"colab-df-convert\" onclick=\"convertToInteractive('df-696f0c3d-347f-4b0d-8dd8-7d5be69ebd14')\"\n",
              "              title=\"Convert this dataframe to an interactive table.\"\n",
              "              style=\"display:none;\">\n",
              "        \n",
              "  <svg xmlns=\"http://www.w3.org/2000/svg\" height=\"24px\"viewBox=\"0 0 24 24\"\n",
              "       width=\"24px\">\n",
              "    <path d=\"M0 0h24v24H0V0z\" fill=\"none\"/>\n",
              "    <path d=\"M18.56 5.44l.94 2.06.94-2.06 2.06-.94-2.06-.94-.94-2.06-.94 2.06-2.06.94zm-11 1L8.5 8.5l.94-2.06 2.06-.94-2.06-.94L8.5 2.5l-.94 2.06-2.06.94zm10 10l.94 2.06.94-2.06 2.06-.94-2.06-.94-.94-2.06-.94 2.06-2.06.94z\"/><path d=\"M17.41 7.96l-1.37-1.37c-.4-.4-.92-.59-1.43-.59-.52 0-1.04.2-1.43.59L10.3 9.45l-7.72 7.72c-.78.78-.78 2.05 0 2.83L4 21.41c.39.39.9.59 1.41.59.51 0 1.02-.2 1.41-.59l7.78-7.78 2.81-2.81c.8-.78.8-2.07 0-2.86zM5.41 20L4 18.59l7.72-7.72 1.47 1.35L5.41 20z\"/>\n",
              "  </svg>\n",
              "      </button>\n",
              "      \n",
              "  <style>\n",
              "    .colab-df-container {\n",
              "      display:flex;\n",
              "      flex-wrap:wrap;\n",
              "      gap: 12px;\n",
              "    }\n",
              "\n",
              "    .colab-df-convert {\n",
              "      background-color: #E8F0FE;\n",
              "      border: none;\n",
              "      border-radius: 50%;\n",
              "      cursor: pointer;\n",
              "      display: none;\n",
              "      fill: #1967D2;\n",
              "      height: 32px;\n",
              "      padding: 0 0 0 0;\n",
              "      width: 32px;\n",
              "    }\n",
              "\n",
              "    .colab-df-convert:hover {\n",
              "      background-color: #E2EBFA;\n",
              "      box-shadow: 0px 1px 2px rgba(60, 64, 67, 0.3), 0px 1px 3px 1px rgba(60, 64, 67, 0.15);\n",
              "      fill: #174EA6;\n",
              "    }\n",
              "\n",
              "    [theme=dark] .colab-df-convert {\n",
              "      background-color: #3B4455;\n",
              "      fill: #D2E3FC;\n",
              "    }\n",
              "\n",
              "    [theme=dark] .colab-df-convert:hover {\n",
              "      background-color: #434B5C;\n",
              "      box-shadow: 0px 1px 3px 1px rgba(0, 0, 0, 0.15);\n",
              "      filter: drop-shadow(0px 1px 2px rgba(0, 0, 0, 0.3));\n",
              "      fill: #FFFFFF;\n",
              "    }\n",
              "  </style>\n",
              "\n",
              "      <script>\n",
              "        const buttonEl =\n",
              "          document.querySelector('#df-696f0c3d-347f-4b0d-8dd8-7d5be69ebd14 button.colab-df-convert');\n",
              "        buttonEl.style.display =\n",
              "          google.colab.kernel.accessAllowed ? 'block' : 'none';\n",
              "\n",
              "        async function convertToInteractive(key) {\n",
              "          const element = document.querySelector('#df-696f0c3d-347f-4b0d-8dd8-7d5be69ebd14');\n",
              "          const dataTable =\n",
              "            await google.colab.kernel.invokeFunction('convertToInteractive',\n",
              "                                                     [key], {});\n",
              "          if (!dataTable) return;\n",
              "\n",
              "          const docLinkHtml = 'Like what you see? Visit the ' +\n",
              "            '<a target=\"_blank\" href=https://colab.research.google.com/notebooks/data_table.ipynb>data table notebook</a>'\n",
              "            + ' to learn more about interactive tables.';\n",
              "          element.innerHTML = '';\n",
              "          dataTable['output_type'] = 'display_data';\n",
              "          await google.colab.output.renderOutput(dataTable, element);\n",
              "          const docLink = document.createElement('div');\n",
              "          docLink.innerHTML = docLinkHtml;\n",
              "          element.appendChild(docLink);\n",
              "        }\n",
              "      </script>\n",
              "    </div>\n",
              "  </div>\n",
              "  "
            ]
          },
          "metadata": {},
          "execution_count": 219
        }
      ]
    },
    {
      "cell_type": "markdown",
      "source": [
        "### Eymael\n"
      ],
      "metadata": {
        "id": "htie2uNXAvGS"
      }
    },
    {
      "cell_type": "code",
      "source": [
        "lista_tweets_eymael = []"
      ],
      "metadata": {
        "id": "QtkfOWMsAitN"
      },
      "execution_count": null,
      "outputs": []
    },
    {
      "cell_type": "code",
      "source": [
        "# O i percorre os tweets, que a biblioteca busca, até o valor atribuido ao máximo de tweets.\n",
        "for i, tweet in enumerate(sntwitter.TwitterSearchScraper(['eymael']).get_items()):\n",
        "  if i > maximo_de_tweets:\n",
        "    break\n",
        "  lista_tweets_eymael.append([tweet.date, tweet.id, tweet.content])"
      ],
      "metadata": {
        "id": "nGoGMq6HA178"
      },
      "execution_count": null,
      "outputs": []
    },
    {
      "cell_type": "code",
      "source": [
        "#Criando df andre janones\n",
        "dataframe_tweets_eymael = pd.DataFrame(lista_tweets_eymael, columns=['Data_Hora', 'Id_Tweet', 'Tweet'])"
      ],
      "metadata": {
        "id": "enS9SsmhBBrd"
      },
      "execution_count": null,
      "outputs": []
    },
    {
      "cell_type": "code",
      "source": [
        "# Adicionando a coluna candidato para melhorar a visualização. \n",
        "dataframe_tweets_eymael['Candidato'] = \"EYMAEL \""
      ],
      "metadata": {
        "id": "Tjl7i2jEBLVN"
      },
      "execution_count": null,
      "outputs": []
    },
    {
      "cell_type": "code",
      "source": [
        "#Visualizando \n",
        "dataframe_tweets_eymael.head()"
      ],
      "metadata": {
        "colab": {
          "base_uri": "https://localhost:8080/",
          "height": 337
        },
        "id": "lz3M2LQSBmGY",
        "outputId": "46c5956d-b93f-4002-86e9-56c7ffeb7d8b"
      },
      "execution_count": null,
      "outputs": [
        {
          "output_type": "execute_result",
          "data": {
            "text/plain": [
              "                  Data_Hora             Id_Tweet  \\\n",
              "0 2022-08-02 15:57:16+00:00  1554496565066321924   \n",
              "1 2022-08-02 15:53:09+00:00  1554495528087523328   \n",
              "2 2022-08-02 15:50:42+00:00  1554494910232936449   \n",
              "3 2022-08-02 15:45:31+00:00  1554493604957245447   \n",
              "4 2022-08-02 15:38:26+00:00  1554491824571547648   \n",
              "\n",
              "                                               Tweet Candidato  \n",
              "0            @gorigorigorii @otempo ey ey eymael 👏👏👏   EYMAEL   \n",
              "1  @vitorv1taoo Minion só no segundo turno, no pr...   EYMAEL   \n",
              "2  @0xC16C616E A pergunta é por que tem gente que...   EYMAEL   \n",
              "3                    @8Patto https://t.co/pXQfBgfGpj   EYMAEL   \n",
              "4           @0xC16C616E *Desde 1998 pra presidência.   EYMAEL   "
            ],
            "text/html": [
              "\n",
              "  <div id=\"df-049e7145-97d6-44b6-9c1a-e0e6d8742314\">\n",
              "    <div class=\"colab-df-container\">\n",
              "      <div>\n",
              "<style scoped>\n",
              "    .dataframe tbody tr th:only-of-type {\n",
              "        vertical-align: middle;\n",
              "    }\n",
              "\n",
              "    .dataframe tbody tr th {\n",
              "        vertical-align: top;\n",
              "    }\n",
              "\n",
              "    .dataframe thead th {\n",
              "        text-align: right;\n",
              "    }\n",
              "</style>\n",
              "<table border=\"1\" class=\"dataframe\">\n",
              "  <thead>\n",
              "    <tr style=\"text-align: right;\">\n",
              "      <th></th>\n",
              "      <th>Data_Hora</th>\n",
              "      <th>Id_Tweet</th>\n",
              "      <th>Tweet</th>\n",
              "      <th>Candidato</th>\n",
              "    </tr>\n",
              "  </thead>\n",
              "  <tbody>\n",
              "    <tr>\n",
              "      <th>0</th>\n",
              "      <td>2022-08-02 15:57:16+00:00</td>\n",
              "      <td>1554496565066321924</td>\n",
              "      <td>@gorigorigorii @otempo ey ey eymael 👏👏👏</td>\n",
              "      <td>EYMAEL</td>\n",
              "    </tr>\n",
              "    <tr>\n",
              "      <th>1</th>\n",
              "      <td>2022-08-02 15:53:09+00:00</td>\n",
              "      <td>1554495528087523328</td>\n",
              "      <td>@vitorv1taoo Minion só no segundo turno, no pr...</td>\n",
              "      <td>EYMAEL</td>\n",
              "    </tr>\n",
              "    <tr>\n",
              "      <th>2</th>\n",
              "      <td>2022-08-02 15:50:42+00:00</td>\n",
              "      <td>1554494910232936449</td>\n",
              "      <td>@0xC16C616E A pergunta é por que tem gente que...</td>\n",
              "      <td>EYMAEL</td>\n",
              "    </tr>\n",
              "    <tr>\n",
              "      <th>3</th>\n",
              "      <td>2022-08-02 15:45:31+00:00</td>\n",
              "      <td>1554493604957245447</td>\n",
              "      <td>@8Patto https://t.co/pXQfBgfGpj</td>\n",
              "      <td>EYMAEL</td>\n",
              "    </tr>\n",
              "    <tr>\n",
              "      <th>4</th>\n",
              "      <td>2022-08-02 15:38:26+00:00</td>\n",
              "      <td>1554491824571547648</td>\n",
              "      <td>@0xC16C616E *Desde 1998 pra presidência.</td>\n",
              "      <td>EYMAEL</td>\n",
              "    </tr>\n",
              "  </tbody>\n",
              "</table>\n",
              "</div>\n",
              "      <button class=\"colab-df-convert\" onclick=\"convertToInteractive('df-049e7145-97d6-44b6-9c1a-e0e6d8742314')\"\n",
              "              title=\"Convert this dataframe to an interactive table.\"\n",
              "              style=\"display:none;\">\n",
              "        \n",
              "  <svg xmlns=\"http://www.w3.org/2000/svg\" height=\"24px\"viewBox=\"0 0 24 24\"\n",
              "       width=\"24px\">\n",
              "    <path d=\"M0 0h24v24H0V0z\" fill=\"none\"/>\n",
              "    <path d=\"M18.56 5.44l.94 2.06.94-2.06 2.06-.94-2.06-.94-.94-2.06-.94 2.06-2.06.94zm-11 1L8.5 8.5l.94-2.06 2.06-.94-2.06-.94L8.5 2.5l-.94 2.06-2.06.94zm10 10l.94 2.06.94-2.06 2.06-.94-2.06-.94-.94-2.06-.94 2.06-2.06.94z\"/><path d=\"M17.41 7.96l-1.37-1.37c-.4-.4-.92-.59-1.43-.59-.52 0-1.04.2-1.43.59L10.3 9.45l-7.72 7.72c-.78.78-.78 2.05 0 2.83L4 21.41c.39.39.9.59 1.41.59.51 0 1.02-.2 1.41-.59l7.78-7.78 2.81-2.81c.8-.78.8-2.07 0-2.86zM5.41 20L4 18.59l7.72-7.72 1.47 1.35L5.41 20z\"/>\n",
              "  </svg>\n",
              "      </button>\n",
              "      \n",
              "  <style>\n",
              "    .colab-df-container {\n",
              "      display:flex;\n",
              "      flex-wrap:wrap;\n",
              "      gap: 12px;\n",
              "    }\n",
              "\n",
              "    .colab-df-convert {\n",
              "      background-color: #E8F0FE;\n",
              "      border: none;\n",
              "      border-radius: 50%;\n",
              "      cursor: pointer;\n",
              "      display: none;\n",
              "      fill: #1967D2;\n",
              "      height: 32px;\n",
              "      padding: 0 0 0 0;\n",
              "      width: 32px;\n",
              "    }\n",
              "\n",
              "    .colab-df-convert:hover {\n",
              "      background-color: #E2EBFA;\n",
              "      box-shadow: 0px 1px 2px rgba(60, 64, 67, 0.3), 0px 1px 3px 1px rgba(60, 64, 67, 0.15);\n",
              "      fill: #174EA6;\n",
              "    }\n",
              "\n",
              "    [theme=dark] .colab-df-convert {\n",
              "      background-color: #3B4455;\n",
              "      fill: #D2E3FC;\n",
              "    }\n",
              "\n",
              "    [theme=dark] .colab-df-convert:hover {\n",
              "      background-color: #434B5C;\n",
              "      box-shadow: 0px 1px 3px 1px rgba(0, 0, 0, 0.15);\n",
              "      filter: drop-shadow(0px 1px 2px rgba(0, 0, 0, 0.3));\n",
              "      fill: #FFFFFF;\n",
              "    }\n",
              "  </style>\n",
              "\n",
              "      <script>\n",
              "        const buttonEl =\n",
              "          document.querySelector('#df-049e7145-97d6-44b6-9c1a-e0e6d8742314 button.colab-df-convert');\n",
              "        buttonEl.style.display =\n",
              "          google.colab.kernel.accessAllowed ? 'block' : 'none';\n",
              "\n",
              "        async function convertToInteractive(key) {\n",
              "          const element = document.querySelector('#df-049e7145-97d6-44b6-9c1a-e0e6d8742314');\n",
              "          const dataTable =\n",
              "            await google.colab.kernel.invokeFunction('convertToInteractive',\n",
              "                                                     [key], {});\n",
              "          if (!dataTable) return;\n",
              "\n",
              "          const docLinkHtml = 'Like what you see? Visit the ' +\n",
              "            '<a target=\"_blank\" href=https://colab.research.google.com/notebooks/data_table.ipynb>data table notebook</a>'\n",
              "            + ' to learn more about interactive tables.';\n",
              "          element.innerHTML = '';\n",
              "          dataTable['output_type'] = 'display_data';\n",
              "          await google.colab.output.renderOutput(dataTable, element);\n",
              "          const docLink = document.createElement('div');\n",
              "          docLink.innerHTML = docLinkHtml;\n",
              "          element.appendChild(docLink);\n",
              "        }\n",
              "      </script>\n",
              "    </div>\n",
              "  </div>\n",
              "  "
            ]
          },
          "metadata": {},
          "execution_count": 224
        }
      ]
    },
    {
      "cell_type": "markdown",
      "source": [
        "### FELIPE D'AVILA "
      ],
      "metadata": {
        "id": "P8p4fALeJU1A"
      }
    },
    {
      "cell_type": "code",
      "source": [
        "lista_tweets_felipe = []"
      ],
      "metadata": {
        "id": "WsYH-OMIBp9g"
      },
      "execution_count": null,
      "outputs": []
    },
    {
      "cell_type": "code",
      "source": [
        "# O i percorre os tweets, que a biblioteca busca, até o valor atribuido ao máximo de tweets.\n",
        "for i, tweet in enumerate(sntwitter.TwitterSearchScraper(['Felipe D Avila']).get_items()):\n",
        "  if i > maximo_de_tweets:\n",
        "    break\n",
        "  lista_tweets_felipe.append([tweet.date, tweet.id, tweet.content])"
      ],
      "metadata": {
        "id": "9I9s9IR9JZHa"
      },
      "execution_count": null,
      "outputs": []
    },
    {
      "cell_type": "code",
      "source": [
        "#Criando df Felipe d'Avila \n",
        "dataframe_tweets_felipe = pd.DataFrame( lista_tweets_felipe, columns=['Data_Hora', 'Id_Tweet', 'Tweet'])"
      ],
      "metadata": {
        "id": "kVFsXEfbJkM6"
      },
      "execution_count": null,
      "outputs": []
    },
    {
      "cell_type": "code",
      "source": [
        "# Adicionando a coluna candidato para melhorar a visualização. \n",
        "dataframe_tweets_felipe['Candidato'] = \"FELIPE D AVILA\""
      ],
      "metadata": {
        "id": "R6vvmPDSJsjB"
      },
      "execution_count": null,
      "outputs": []
    },
    {
      "cell_type": "code",
      "source": [
        "#Visualizando \n",
        "dataframe_tweets_felipe.head()\n"
      ],
      "metadata": {
        "colab": {
          "base_uri": "https://localhost:8080/",
          "height": 337
        },
        "id": "sOdeUs67Jy9S",
        "outputId": "9fee377c-f7cf-437d-b4bd-f61af6dcd5bc"
      },
      "execution_count": null,
      "outputs": [
        {
          "output_type": "execute_result",
          "data": {
            "text/plain": [
              "                  Data_Hora             Id_Tweet  \\\n",
              "0 2022-08-02 15:03:27+00:00  1554483018437464068   \n",
              "1 2022-08-02 14:58:48+00:00  1554481849946234880   \n",
              "2 2022-08-02 14:58:05+00:00  1554481671000530945   \n",
              "3 2022-08-02 14:54:11+00:00  1554480687276761092   \n",
              "4 2022-08-02 14:48:34+00:00  1554479273020456962   \n",
              "\n",
              "                                               Tweet       Candidato  \n",
              "0  @SalhebAvelino Sigo não acreditando nas pesqui...  FELIPE D AVILA  \n",
              "1  Partido Novo oficializa candidatura de Felipe ...  FELIPE D AVILA  \n",
              "2  Quem estiver com Felipe d'Avila me segue que e...  FELIPE D AVILA  \n",
              "3  @Du76216127  para mim Felipe D'Avila president...  FELIPE D AVILA  \n",
              "4  Vou de Felipe D' Avila, pelo menos tenho a cor...  FELIPE D AVILA  "
            ],
            "text/html": [
              "\n",
              "  <div id=\"df-9fcd83f5-18bc-4572-8411-0937969ffc4d\">\n",
              "    <div class=\"colab-df-container\">\n",
              "      <div>\n",
              "<style scoped>\n",
              "    .dataframe tbody tr th:only-of-type {\n",
              "        vertical-align: middle;\n",
              "    }\n",
              "\n",
              "    .dataframe tbody tr th {\n",
              "        vertical-align: top;\n",
              "    }\n",
              "\n",
              "    .dataframe thead th {\n",
              "        text-align: right;\n",
              "    }\n",
              "</style>\n",
              "<table border=\"1\" class=\"dataframe\">\n",
              "  <thead>\n",
              "    <tr style=\"text-align: right;\">\n",
              "      <th></th>\n",
              "      <th>Data_Hora</th>\n",
              "      <th>Id_Tweet</th>\n",
              "      <th>Tweet</th>\n",
              "      <th>Candidato</th>\n",
              "    </tr>\n",
              "  </thead>\n",
              "  <tbody>\n",
              "    <tr>\n",
              "      <th>0</th>\n",
              "      <td>2022-08-02 15:03:27+00:00</td>\n",
              "      <td>1554483018437464068</td>\n",
              "      <td>@SalhebAvelino Sigo não acreditando nas pesqui...</td>\n",
              "      <td>FELIPE D AVILA</td>\n",
              "    </tr>\n",
              "    <tr>\n",
              "      <th>1</th>\n",
              "      <td>2022-08-02 14:58:48+00:00</td>\n",
              "      <td>1554481849946234880</td>\n",
              "      <td>Partido Novo oficializa candidatura de Felipe ...</td>\n",
              "      <td>FELIPE D AVILA</td>\n",
              "    </tr>\n",
              "    <tr>\n",
              "      <th>2</th>\n",
              "      <td>2022-08-02 14:58:05+00:00</td>\n",
              "      <td>1554481671000530945</td>\n",
              "      <td>Quem estiver com Felipe d'Avila me segue que e...</td>\n",
              "      <td>FELIPE D AVILA</td>\n",
              "    </tr>\n",
              "    <tr>\n",
              "      <th>3</th>\n",
              "      <td>2022-08-02 14:54:11+00:00</td>\n",
              "      <td>1554480687276761092</td>\n",
              "      <td>@Du76216127  para mim Felipe D'Avila president...</td>\n",
              "      <td>FELIPE D AVILA</td>\n",
              "    </tr>\n",
              "    <tr>\n",
              "      <th>4</th>\n",
              "      <td>2022-08-02 14:48:34+00:00</td>\n",
              "      <td>1554479273020456962</td>\n",
              "      <td>Vou de Felipe D' Avila, pelo menos tenho a cor...</td>\n",
              "      <td>FELIPE D AVILA</td>\n",
              "    </tr>\n",
              "  </tbody>\n",
              "</table>\n",
              "</div>\n",
              "      <button class=\"colab-df-convert\" onclick=\"convertToInteractive('df-9fcd83f5-18bc-4572-8411-0937969ffc4d')\"\n",
              "              title=\"Convert this dataframe to an interactive table.\"\n",
              "              style=\"display:none;\">\n",
              "        \n",
              "  <svg xmlns=\"http://www.w3.org/2000/svg\" height=\"24px\"viewBox=\"0 0 24 24\"\n",
              "       width=\"24px\">\n",
              "    <path d=\"M0 0h24v24H0V0z\" fill=\"none\"/>\n",
              "    <path d=\"M18.56 5.44l.94 2.06.94-2.06 2.06-.94-2.06-.94-.94-2.06-.94 2.06-2.06.94zm-11 1L8.5 8.5l.94-2.06 2.06-.94-2.06-.94L8.5 2.5l-.94 2.06-2.06.94zm10 10l.94 2.06.94-2.06 2.06-.94-2.06-.94-.94-2.06-.94 2.06-2.06.94z\"/><path d=\"M17.41 7.96l-1.37-1.37c-.4-.4-.92-.59-1.43-.59-.52 0-1.04.2-1.43.59L10.3 9.45l-7.72 7.72c-.78.78-.78 2.05 0 2.83L4 21.41c.39.39.9.59 1.41.59.51 0 1.02-.2 1.41-.59l7.78-7.78 2.81-2.81c.8-.78.8-2.07 0-2.86zM5.41 20L4 18.59l7.72-7.72 1.47 1.35L5.41 20z\"/>\n",
              "  </svg>\n",
              "      </button>\n",
              "      \n",
              "  <style>\n",
              "    .colab-df-container {\n",
              "      display:flex;\n",
              "      flex-wrap:wrap;\n",
              "      gap: 12px;\n",
              "    }\n",
              "\n",
              "    .colab-df-convert {\n",
              "      background-color: #E8F0FE;\n",
              "      border: none;\n",
              "      border-radius: 50%;\n",
              "      cursor: pointer;\n",
              "      display: none;\n",
              "      fill: #1967D2;\n",
              "      height: 32px;\n",
              "      padding: 0 0 0 0;\n",
              "      width: 32px;\n",
              "    }\n",
              "\n",
              "    .colab-df-convert:hover {\n",
              "      background-color: #E2EBFA;\n",
              "      box-shadow: 0px 1px 2px rgba(60, 64, 67, 0.3), 0px 1px 3px 1px rgba(60, 64, 67, 0.15);\n",
              "      fill: #174EA6;\n",
              "    }\n",
              "\n",
              "    [theme=dark] .colab-df-convert {\n",
              "      background-color: #3B4455;\n",
              "      fill: #D2E3FC;\n",
              "    }\n",
              "\n",
              "    [theme=dark] .colab-df-convert:hover {\n",
              "      background-color: #434B5C;\n",
              "      box-shadow: 0px 1px 3px 1px rgba(0, 0, 0, 0.15);\n",
              "      filter: drop-shadow(0px 1px 2px rgba(0, 0, 0, 0.3));\n",
              "      fill: #FFFFFF;\n",
              "    }\n",
              "  </style>\n",
              "\n",
              "      <script>\n",
              "        const buttonEl =\n",
              "          document.querySelector('#df-9fcd83f5-18bc-4572-8411-0937969ffc4d button.colab-df-convert');\n",
              "        buttonEl.style.display =\n",
              "          google.colab.kernel.accessAllowed ? 'block' : 'none';\n",
              "\n",
              "        async function convertToInteractive(key) {\n",
              "          const element = document.querySelector('#df-9fcd83f5-18bc-4572-8411-0937969ffc4d');\n",
              "          const dataTable =\n",
              "            await google.colab.kernel.invokeFunction('convertToInteractive',\n",
              "                                                     [key], {});\n",
              "          if (!dataTable) return;\n",
              "\n",
              "          const docLinkHtml = 'Like what you see? Visit the ' +\n",
              "            '<a target=\"_blank\" href=https://colab.research.google.com/notebooks/data_table.ipynb>data table notebook</a>'\n",
              "            + ' to learn more about interactive tables.';\n",
              "          element.innerHTML = '';\n",
              "          dataTable['output_type'] = 'display_data';\n",
              "          await google.colab.output.renderOutput(dataTable, element);\n",
              "          const docLink = document.createElement('div');\n",
              "          docLink.innerHTML = docLinkHtml;\n",
              "          element.appendChild(docLink);\n",
              "        }\n",
              "      </script>\n",
              "    </div>\n",
              "  </div>\n",
              "  "
            ]
          },
          "metadata": {},
          "execution_count": 229
        }
      ]
    },
    {
      "cell_type": "markdown",
      "source": [
        "### LEONARDO PÉRICLES"
      ],
      "metadata": {
        "id": "uyIgeFwiLteJ"
      }
    },
    {
      "cell_type": "code",
      "source": [
        "lista_tweets_leonardo = []"
      ],
      "metadata": {
        "id": "ZVDA3NgaKhEy"
      },
      "execution_count": null,
      "outputs": []
    },
    {
      "cell_type": "code",
      "source": [
        "for i , tweet in enumerate((sntwitter.TwitterSearchScraper(['Leonardo Pericles'])).get_items()):\n",
        "  if i > maximo_de_tweets:\n",
        "    break\n",
        "  lista_tweets_leonardo.append([tweet.date, tweet.id, tweet.content])\n"
      ],
      "metadata": {
        "id": "8ftsvgFIL0fe"
      },
      "execution_count": null,
      "outputs": []
    },
    {
      "cell_type": "code",
      "source": [
        "#Criando df Leonardo Péricles \n",
        "dataframe_tweets_leonardo = pd.DataFrame( lista_tweets_leonardo, columns=['Data_Hora', 'Id_Tweet', 'Tweet'])"
      ],
      "metadata": {
        "id": "hhsBiWlGMoZU"
      },
      "execution_count": null,
      "outputs": []
    },
    {
      "cell_type": "code",
      "source": [
        "# Adicionando a coluna candidato para melhorar a visualização. \n",
        "dataframe_tweets_leonardo['Candidato'] = \"LEONARDO PÉRICLES\""
      ],
      "metadata": {
        "id": "FhZeXiQeNFAh"
      },
      "execution_count": null,
      "outputs": []
    },
    {
      "cell_type": "code",
      "source": [
        "#Visualização \n",
        "dataframe_tweets_leonardo.head()"
      ],
      "metadata": {
        "colab": {
          "base_uri": "https://localhost:8080/",
          "height": 337
        },
        "id": "b8GWzz_nNdvZ",
        "outputId": "0ac049f5-38dc-4974-94ca-5cf910a13671"
      },
      "execution_count": null,
      "outputs": [
        {
          "output_type": "execute_result",
          "data": {
            "text/plain": [
              "                  Data_Hora             Id_Tweet  \\\n",
              "0 2022-08-02 05:44:08+00:00  1554342265035935745   \n",
              "1 2022-08-02 04:52:02+00:00  1554329149849976833   \n",
              "2 2022-08-02 02:44:19+00:00  1554297009426817026   \n",
              "3 2022-08-02 02:12:54+00:00  1554289103243550722   \n",
              "4 2022-08-02 00:20:36+00:00  1554260844732628992   \n",
              "\n",
              "                                               Tweet          Candidato  \n",
              "0  UP lança Leonardo Péricles à Presidência da Re...  LEONARDO PÉRICLES  \n",
              "1  @Leon_Cubana estou me tornando fanboy da up aq...  LEONARDO PÉRICLES  \n",
              "2  Queria anunciar que sou candidate pela Unidade...  LEONARDO PÉRICLES  \n",
              "3  https://t.co/1k6jsWPpGR\\nLeonardo Péricles moe...  LEONARDO PÉRICLES  \n",
              "4  lendo as propostas do Leonardo Pericles e Sofi...  LEONARDO PÉRICLES  "
            ],
            "text/html": [
              "\n",
              "  <div id=\"df-10609edc-192d-4a63-b1ef-b49ace4c4d92\">\n",
              "    <div class=\"colab-df-container\">\n",
              "      <div>\n",
              "<style scoped>\n",
              "    .dataframe tbody tr th:only-of-type {\n",
              "        vertical-align: middle;\n",
              "    }\n",
              "\n",
              "    .dataframe tbody tr th {\n",
              "        vertical-align: top;\n",
              "    }\n",
              "\n",
              "    .dataframe thead th {\n",
              "        text-align: right;\n",
              "    }\n",
              "</style>\n",
              "<table border=\"1\" class=\"dataframe\">\n",
              "  <thead>\n",
              "    <tr style=\"text-align: right;\">\n",
              "      <th></th>\n",
              "      <th>Data_Hora</th>\n",
              "      <th>Id_Tweet</th>\n",
              "      <th>Tweet</th>\n",
              "      <th>Candidato</th>\n",
              "    </tr>\n",
              "  </thead>\n",
              "  <tbody>\n",
              "    <tr>\n",
              "      <th>0</th>\n",
              "      <td>2022-08-02 05:44:08+00:00</td>\n",
              "      <td>1554342265035935745</td>\n",
              "      <td>UP lança Leonardo Péricles à Presidência da Re...</td>\n",
              "      <td>LEONARDO PÉRICLES</td>\n",
              "    </tr>\n",
              "    <tr>\n",
              "      <th>1</th>\n",
              "      <td>2022-08-02 04:52:02+00:00</td>\n",
              "      <td>1554329149849976833</td>\n",
              "      <td>@Leon_Cubana estou me tornando fanboy da up aq...</td>\n",
              "      <td>LEONARDO PÉRICLES</td>\n",
              "    </tr>\n",
              "    <tr>\n",
              "      <th>2</th>\n",
              "      <td>2022-08-02 02:44:19+00:00</td>\n",
              "      <td>1554297009426817026</td>\n",
              "      <td>Queria anunciar que sou candidate pela Unidade...</td>\n",
              "      <td>LEONARDO PÉRICLES</td>\n",
              "    </tr>\n",
              "    <tr>\n",
              "      <th>3</th>\n",
              "      <td>2022-08-02 02:12:54+00:00</td>\n",
              "      <td>1554289103243550722</td>\n",
              "      <td>https://t.co/1k6jsWPpGR\\nLeonardo Péricles moe...</td>\n",
              "      <td>LEONARDO PÉRICLES</td>\n",
              "    </tr>\n",
              "    <tr>\n",
              "      <th>4</th>\n",
              "      <td>2022-08-02 00:20:36+00:00</td>\n",
              "      <td>1554260844732628992</td>\n",
              "      <td>lendo as propostas do Leonardo Pericles e Sofi...</td>\n",
              "      <td>LEONARDO PÉRICLES</td>\n",
              "    </tr>\n",
              "  </tbody>\n",
              "</table>\n",
              "</div>\n",
              "      <button class=\"colab-df-convert\" onclick=\"convertToInteractive('df-10609edc-192d-4a63-b1ef-b49ace4c4d92')\"\n",
              "              title=\"Convert this dataframe to an interactive table.\"\n",
              "              style=\"display:none;\">\n",
              "        \n",
              "  <svg xmlns=\"http://www.w3.org/2000/svg\" height=\"24px\"viewBox=\"0 0 24 24\"\n",
              "       width=\"24px\">\n",
              "    <path d=\"M0 0h24v24H0V0z\" fill=\"none\"/>\n",
              "    <path d=\"M18.56 5.44l.94 2.06.94-2.06 2.06-.94-2.06-.94-.94-2.06-.94 2.06-2.06.94zm-11 1L8.5 8.5l.94-2.06 2.06-.94-2.06-.94L8.5 2.5l-.94 2.06-2.06.94zm10 10l.94 2.06.94-2.06 2.06-.94-2.06-.94-.94-2.06-.94 2.06-2.06.94z\"/><path d=\"M17.41 7.96l-1.37-1.37c-.4-.4-.92-.59-1.43-.59-.52 0-1.04.2-1.43.59L10.3 9.45l-7.72 7.72c-.78.78-.78 2.05 0 2.83L4 21.41c.39.39.9.59 1.41.59.51 0 1.02-.2 1.41-.59l7.78-7.78 2.81-2.81c.8-.78.8-2.07 0-2.86zM5.41 20L4 18.59l7.72-7.72 1.47 1.35L5.41 20z\"/>\n",
              "  </svg>\n",
              "      </button>\n",
              "      \n",
              "  <style>\n",
              "    .colab-df-container {\n",
              "      display:flex;\n",
              "      flex-wrap:wrap;\n",
              "      gap: 12px;\n",
              "    }\n",
              "\n",
              "    .colab-df-convert {\n",
              "      background-color: #E8F0FE;\n",
              "      border: none;\n",
              "      border-radius: 50%;\n",
              "      cursor: pointer;\n",
              "      display: none;\n",
              "      fill: #1967D2;\n",
              "      height: 32px;\n",
              "      padding: 0 0 0 0;\n",
              "      width: 32px;\n",
              "    }\n",
              "\n",
              "    .colab-df-convert:hover {\n",
              "      background-color: #E2EBFA;\n",
              "      box-shadow: 0px 1px 2px rgba(60, 64, 67, 0.3), 0px 1px 3px 1px rgba(60, 64, 67, 0.15);\n",
              "      fill: #174EA6;\n",
              "    }\n",
              "\n",
              "    [theme=dark] .colab-df-convert {\n",
              "      background-color: #3B4455;\n",
              "      fill: #D2E3FC;\n",
              "    }\n",
              "\n",
              "    [theme=dark] .colab-df-convert:hover {\n",
              "      background-color: #434B5C;\n",
              "      box-shadow: 0px 1px 3px 1px rgba(0, 0, 0, 0.15);\n",
              "      filter: drop-shadow(0px 1px 2px rgba(0, 0, 0, 0.3));\n",
              "      fill: #FFFFFF;\n",
              "    }\n",
              "  </style>\n",
              "\n",
              "      <script>\n",
              "        const buttonEl =\n",
              "          document.querySelector('#df-10609edc-192d-4a63-b1ef-b49ace4c4d92 button.colab-df-convert');\n",
              "        buttonEl.style.display =\n",
              "          google.colab.kernel.accessAllowed ? 'block' : 'none';\n",
              "\n",
              "        async function convertToInteractive(key) {\n",
              "          const element = document.querySelector('#df-10609edc-192d-4a63-b1ef-b49ace4c4d92');\n",
              "          const dataTable =\n",
              "            await google.colab.kernel.invokeFunction('convertToInteractive',\n",
              "                                                     [key], {});\n",
              "          if (!dataTable) return;\n",
              "\n",
              "          const docLinkHtml = 'Like what you see? Visit the ' +\n",
              "            '<a target=\"_blank\" href=https://colab.research.google.com/notebooks/data_table.ipynb>data table notebook</a>'\n",
              "            + ' to learn more about interactive tables.';\n",
              "          element.innerHTML = '';\n",
              "          dataTable['output_type'] = 'display_data';\n",
              "          await google.colab.output.renderOutput(dataTable, element);\n",
              "          const docLink = document.createElement('div');\n",
              "          docLink.innerHTML = docLinkHtml;\n",
              "          element.appendChild(docLink);\n",
              "        }\n",
              "      </script>\n",
              "    </div>\n",
              "  </div>\n",
              "  "
            ]
          },
          "metadata": {},
          "execution_count": 234
        }
      ]
    },
    {
      "cell_type": "markdown",
      "source": [
        "### PABLO MARÇAL \n"
      ],
      "metadata": {
        "id": "DN-zHTloNuGL"
      }
    },
    {
      "cell_type": "code",
      "source": [
        "lista_tweets_pablo = []"
      ],
      "metadata": {
        "id": "54Ye4YqWNnCB"
      },
      "execution_count": null,
      "outputs": []
    },
    {
      "cell_type": "code",
      "source": [
        "for i , tweet in enumerate((sntwitter.TwitterSearchScraper(['Pablo Marçal'])).get_items()):\n",
        "  if i > maximo_de_tweets:\n",
        "    break\n",
        "  lista_tweets_pablo.append([tweet.date, tweet.id, tweet.content])\n"
      ],
      "metadata": {
        "id": "ZhGiFtN_Ny3o"
      },
      "execution_count": null,
      "outputs": []
    },
    {
      "cell_type": "code",
      "source": [
        "#Criando df Pablo Marçal \n",
        "dataframe_tweets_pablo = pd.DataFrame( lista_tweets_pablo, columns=['Data_Hora', 'Id_Tweet', 'Tweet'])"
      ],
      "metadata": {
        "id": "-GUFgWX2N8NY"
      },
      "execution_count": null,
      "outputs": []
    },
    {
      "cell_type": "code",
      "source": [
        "# Adicionando a coluna candidato para melhorar a visualização. \n",
        "dataframe_tweets_pablo['Candidato'] = \"PABLO MARÇAL\""
      ],
      "metadata": {
        "id": "fxSfOBIVOEJI"
      },
      "execution_count": null,
      "outputs": []
    },
    {
      "cell_type": "code",
      "source": [
        "#Visualização \n",
        "dataframe_tweets_pablo.head()"
      ],
      "metadata": {
        "colab": {
          "base_uri": "https://localhost:8080/",
          "height": 337
        },
        "id": "i3QnJXocOLyQ",
        "outputId": "41215ed9-2530-41db-adab-217e326f1cc2"
      },
      "execution_count": null,
      "outputs": [
        {
          "output_type": "execute_result",
          "data": {
            "text/plain": [
              "                  Data_Hora             Id_Tweet  \\\n",
              "0 2022-08-02 15:58:30+00:00  1554496873377021955   \n",
              "1 2022-08-02 15:54:58+00:00  1554495985249918984   \n",
              "2 2022-08-02 15:52:38+00:00  1554495396780589058   \n",
              "3 2022-08-02 15:35:43+00:00  1554491141298569218   \n",
              "4 2022-08-02 15:34:35+00:00  1554490856937324544   \n",
              "\n",
              "                                               Tweet     Candidato  \n",
              "0  @pablomarcal pablo,tu só irá conseguir a presi...  PABLO MARÇAL  \n",
              "1  Pros oficializa candidatura de Pablo Marçal à ...  PABLO MARÇAL  \n",
              "2  @pablomarcal Vai trazer metade da China pro Br...  PABLO MARÇAL  \n",
              "3        @pablomarcal Eu sou com você Marçal! TMJADF  PABLO MARÇAL  \n",
              "4    @rosangelamorosp Bora fechar com @pablomarcal ?  PABLO MARÇAL  "
            ],
            "text/html": [
              "\n",
              "  <div id=\"df-0c18f87f-8e65-47c5-8348-c92795dc3c2a\">\n",
              "    <div class=\"colab-df-container\">\n",
              "      <div>\n",
              "<style scoped>\n",
              "    .dataframe tbody tr th:only-of-type {\n",
              "        vertical-align: middle;\n",
              "    }\n",
              "\n",
              "    .dataframe tbody tr th {\n",
              "        vertical-align: top;\n",
              "    }\n",
              "\n",
              "    .dataframe thead th {\n",
              "        text-align: right;\n",
              "    }\n",
              "</style>\n",
              "<table border=\"1\" class=\"dataframe\">\n",
              "  <thead>\n",
              "    <tr style=\"text-align: right;\">\n",
              "      <th></th>\n",
              "      <th>Data_Hora</th>\n",
              "      <th>Id_Tweet</th>\n",
              "      <th>Tweet</th>\n",
              "      <th>Candidato</th>\n",
              "    </tr>\n",
              "  </thead>\n",
              "  <tbody>\n",
              "    <tr>\n",
              "      <th>0</th>\n",
              "      <td>2022-08-02 15:58:30+00:00</td>\n",
              "      <td>1554496873377021955</td>\n",
              "      <td>@pablomarcal pablo,tu só irá conseguir a presi...</td>\n",
              "      <td>PABLO MARÇAL</td>\n",
              "    </tr>\n",
              "    <tr>\n",
              "      <th>1</th>\n",
              "      <td>2022-08-02 15:54:58+00:00</td>\n",
              "      <td>1554495985249918984</td>\n",
              "      <td>Pros oficializa candidatura de Pablo Marçal à ...</td>\n",
              "      <td>PABLO MARÇAL</td>\n",
              "    </tr>\n",
              "    <tr>\n",
              "      <th>2</th>\n",
              "      <td>2022-08-02 15:52:38+00:00</td>\n",
              "      <td>1554495396780589058</td>\n",
              "      <td>@pablomarcal Vai trazer metade da China pro Br...</td>\n",
              "      <td>PABLO MARÇAL</td>\n",
              "    </tr>\n",
              "    <tr>\n",
              "      <th>3</th>\n",
              "      <td>2022-08-02 15:35:43+00:00</td>\n",
              "      <td>1554491141298569218</td>\n",
              "      <td>@pablomarcal Eu sou com você Marçal! TMJADF</td>\n",
              "      <td>PABLO MARÇAL</td>\n",
              "    </tr>\n",
              "    <tr>\n",
              "      <th>4</th>\n",
              "      <td>2022-08-02 15:34:35+00:00</td>\n",
              "      <td>1554490856937324544</td>\n",
              "      <td>@rosangelamorosp Bora fechar com @pablomarcal ?</td>\n",
              "      <td>PABLO MARÇAL</td>\n",
              "    </tr>\n",
              "  </tbody>\n",
              "</table>\n",
              "</div>\n",
              "      <button class=\"colab-df-convert\" onclick=\"convertToInteractive('df-0c18f87f-8e65-47c5-8348-c92795dc3c2a')\"\n",
              "              title=\"Convert this dataframe to an interactive table.\"\n",
              "              style=\"display:none;\">\n",
              "        \n",
              "  <svg xmlns=\"http://www.w3.org/2000/svg\" height=\"24px\"viewBox=\"0 0 24 24\"\n",
              "       width=\"24px\">\n",
              "    <path d=\"M0 0h24v24H0V0z\" fill=\"none\"/>\n",
              "    <path d=\"M18.56 5.44l.94 2.06.94-2.06 2.06-.94-2.06-.94-.94-2.06-.94 2.06-2.06.94zm-11 1L8.5 8.5l.94-2.06 2.06-.94-2.06-.94L8.5 2.5l-.94 2.06-2.06.94zm10 10l.94 2.06.94-2.06 2.06-.94-2.06-.94-.94-2.06-.94 2.06-2.06.94z\"/><path d=\"M17.41 7.96l-1.37-1.37c-.4-.4-.92-.59-1.43-.59-.52 0-1.04.2-1.43.59L10.3 9.45l-7.72 7.72c-.78.78-.78 2.05 0 2.83L4 21.41c.39.39.9.59 1.41.59.51 0 1.02-.2 1.41-.59l7.78-7.78 2.81-2.81c.8-.78.8-2.07 0-2.86zM5.41 20L4 18.59l7.72-7.72 1.47 1.35L5.41 20z\"/>\n",
              "  </svg>\n",
              "      </button>\n",
              "      \n",
              "  <style>\n",
              "    .colab-df-container {\n",
              "      display:flex;\n",
              "      flex-wrap:wrap;\n",
              "      gap: 12px;\n",
              "    }\n",
              "\n",
              "    .colab-df-convert {\n",
              "      background-color: #E8F0FE;\n",
              "      border: none;\n",
              "      border-radius: 50%;\n",
              "      cursor: pointer;\n",
              "      display: none;\n",
              "      fill: #1967D2;\n",
              "      height: 32px;\n",
              "      padding: 0 0 0 0;\n",
              "      width: 32px;\n",
              "    }\n",
              "\n",
              "    .colab-df-convert:hover {\n",
              "      background-color: #E2EBFA;\n",
              "      box-shadow: 0px 1px 2px rgba(60, 64, 67, 0.3), 0px 1px 3px 1px rgba(60, 64, 67, 0.15);\n",
              "      fill: #174EA6;\n",
              "    }\n",
              "\n",
              "    [theme=dark] .colab-df-convert {\n",
              "      background-color: #3B4455;\n",
              "      fill: #D2E3FC;\n",
              "    }\n",
              "\n",
              "    [theme=dark] .colab-df-convert:hover {\n",
              "      background-color: #434B5C;\n",
              "      box-shadow: 0px 1px 3px 1px rgba(0, 0, 0, 0.15);\n",
              "      filter: drop-shadow(0px 1px 2px rgba(0, 0, 0, 0.3));\n",
              "      fill: #FFFFFF;\n",
              "    }\n",
              "  </style>\n",
              "\n",
              "      <script>\n",
              "        const buttonEl =\n",
              "          document.querySelector('#df-0c18f87f-8e65-47c5-8348-c92795dc3c2a button.colab-df-convert');\n",
              "        buttonEl.style.display =\n",
              "          google.colab.kernel.accessAllowed ? 'block' : 'none';\n",
              "\n",
              "        async function convertToInteractive(key) {\n",
              "          const element = document.querySelector('#df-0c18f87f-8e65-47c5-8348-c92795dc3c2a');\n",
              "          const dataTable =\n",
              "            await google.colab.kernel.invokeFunction('convertToInteractive',\n",
              "                                                     [key], {});\n",
              "          if (!dataTable) return;\n",
              "\n",
              "          const docLinkHtml = 'Like what you see? Visit the ' +\n",
              "            '<a target=\"_blank\" href=https://colab.research.google.com/notebooks/data_table.ipynb>data table notebook</a>'\n",
              "            + ' to learn more about interactive tables.';\n",
              "          element.innerHTML = '';\n",
              "          dataTable['output_type'] = 'display_data';\n",
              "          await google.colab.output.renderOutput(dataTable, element);\n",
              "          const docLink = document.createElement('div');\n",
              "          docLink.innerHTML = docLinkHtml;\n",
              "          element.appendChild(docLink);\n",
              "        }\n",
              "      </script>\n",
              "    </div>\n",
              "  </div>\n",
              "  "
            ]
          },
          "metadata": {},
          "execution_count": 239
        }
      ]
    },
    {
      "cell_type": "markdown",
      "source": [
        "ROBERTO JEFFERSON \n"
      ],
      "metadata": {
        "id": "CNLgzgvjOUVd"
      }
    },
    {
      "cell_type": "code",
      "source": [
        "lista_tweets_roberto = []"
      ],
      "metadata": {
        "id": "vFlDndG_OQGw"
      },
      "execution_count": null,
      "outputs": []
    },
    {
      "cell_type": "code",
      "source": [
        "for i , tweet in enumerate((sntwitter.TwitterSearchScraper(['Roberto Jefferson'])).get_items()):\n",
        "  if i > maximo_de_tweets:\n",
        "    break\n",
        "  lista_tweets_roberto.append([tweet.date, tweet.id, tweet.content])"
      ],
      "metadata": {
        "id": "qQrjlGYQOZhI"
      },
      "execution_count": null,
      "outputs": []
    },
    {
      "cell_type": "code",
      "source": [
        "#Criando df Roberto Jefferson \n",
        "dataframe_tweets_roberto = pd.DataFrame( lista_tweets_roberto, columns=['Data_Hora', 'Id_Tweet', 'Tweet'])"
      ],
      "metadata": {
        "id": "s2L8kErWOhjP"
      },
      "execution_count": null,
      "outputs": []
    },
    {
      "cell_type": "code",
      "source": [
        "# Adicionando a coluna candidato para melhorar a visualização. \n",
        "dataframe_tweets_roberto['Candidato'] = \"ROBERTO JEFFERSON\""
      ],
      "metadata": {
        "id": "RBj-Unn_OpeQ"
      },
      "execution_count": null,
      "outputs": []
    },
    {
      "cell_type": "code",
      "source": [
        "dataframe_tweets_roberto.head()"
      ],
      "metadata": {
        "colab": {
          "base_uri": "https://localhost:8080/",
          "height": 372
        },
        "id": "p6kFSvT4O1J4",
        "outputId": "cb4069a6-b718-4413-d699-43a96b8b27a5"
      },
      "execution_count": null,
      "outputs": [
        {
          "output_type": "execute_result",
          "data": {
            "text/plain": [
              "                  Data_Hora             Id_Tweet  \\\n",
              "0 2022-08-02 15:59:26+00:00  1554497107402362880   \n",
              "1 2022-08-02 15:57:50+00:00  1554496707882262529   \n",
              "2 2022-08-02 15:56:19+00:00  1554496326074761216   \n",
              "3 2022-08-02 15:56:15+00:00  1554496308395794438   \n",
              "4 2022-08-02 15:50:32+00:00  1554494867312721921   \n",
              "\n",
              "                                               Tweet          Candidato  \n",
              "0  Um país que tem e aceita Roberto Jefferson can...  ROBERTO JEFFERSON  \n",
              "1  @PedroRonchi2 Vc é burrro ou desonesto, acredi...  ROBERTO JEFFERSON  \n",
              "2  PTB lança Roberto Jefferson como candidato a p...  ROBERTO JEFFERSON  \n",
              "3  PÁTRIA AMADA BRASIL.\\nPAÍS DA IMPUNIDADE, DAS ...  ROBERTO JEFFERSON  \n",
              "4  @RoLuchsinger O MAIOR LADRÃO DA HISTÓRIA DO BR...  ROBERTO JEFFERSON  "
            ],
            "text/html": [
              "\n",
              "  <div id=\"df-92c7608f-2f3d-4a5a-a8e0-148ae85493b9\">\n",
              "    <div class=\"colab-df-container\">\n",
              "      <div>\n",
              "<style scoped>\n",
              "    .dataframe tbody tr th:only-of-type {\n",
              "        vertical-align: middle;\n",
              "    }\n",
              "\n",
              "    .dataframe tbody tr th {\n",
              "        vertical-align: top;\n",
              "    }\n",
              "\n",
              "    .dataframe thead th {\n",
              "        text-align: right;\n",
              "    }\n",
              "</style>\n",
              "<table border=\"1\" class=\"dataframe\">\n",
              "  <thead>\n",
              "    <tr style=\"text-align: right;\">\n",
              "      <th></th>\n",
              "      <th>Data_Hora</th>\n",
              "      <th>Id_Tweet</th>\n",
              "      <th>Tweet</th>\n",
              "      <th>Candidato</th>\n",
              "    </tr>\n",
              "  </thead>\n",
              "  <tbody>\n",
              "    <tr>\n",
              "      <th>0</th>\n",
              "      <td>2022-08-02 15:59:26+00:00</td>\n",
              "      <td>1554497107402362880</td>\n",
              "      <td>Um país que tem e aceita Roberto Jefferson can...</td>\n",
              "      <td>ROBERTO JEFFERSON</td>\n",
              "    </tr>\n",
              "    <tr>\n",
              "      <th>1</th>\n",
              "      <td>2022-08-02 15:57:50+00:00</td>\n",
              "      <td>1554496707882262529</td>\n",
              "      <td>@PedroRonchi2 Vc é burrro ou desonesto, acredi...</td>\n",
              "      <td>ROBERTO JEFFERSON</td>\n",
              "    </tr>\n",
              "    <tr>\n",
              "      <th>2</th>\n",
              "      <td>2022-08-02 15:56:19+00:00</td>\n",
              "      <td>1554496326074761216</td>\n",
              "      <td>PTB lança Roberto Jefferson como candidato a p...</td>\n",
              "      <td>ROBERTO JEFFERSON</td>\n",
              "    </tr>\n",
              "    <tr>\n",
              "      <th>3</th>\n",
              "      <td>2022-08-02 15:56:15+00:00</td>\n",
              "      <td>1554496308395794438</td>\n",
              "      <td>PÁTRIA AMADA BRASIL.\\nPAÍS DA IMPUNIDADE, DAS ...</td>\n",
              "      <td>ROBERTO JEFFERSON</td>\n",
              "    </tr>\n",
              "    <tr>\n",
              "      <th>4</th>\n",
              "      <td>2022-08-02 15:50:32+00:00</td>\n",
              "      <td>1554494867312721921</td>\n",
              "      <td>@RoLuchsinger O MAIOR LADRÃO DA HISTÓRIA DO BR...</td>\n",
              "      <td>ROBERTO JEFFERSON</td>\n",
              "    </tr>\n",
              "  </tbody>\n",
              "</table>\n",
              "</div>\n",
              "      <button class=\"colab-df-convert\" onclick=\"convertToInteractive('df-92c7608f-2f3d-4a5a-a8e0-148ae85493b9')\"\n",
              "              title=\"Convert this dataframe to an interactive table.\"\n",
              "              style=\"display:none;\">\n",
              "        \n",
              "  <svg xmlns=\"http://www.w3.org/2000/svg\" height=\"24px\"viewBox=\"0 0 24 24\"\n",
              "       width=\"24px\">\n",
              "    <path d=\"M0 0h24v24H0V0z\" fill=\"none\"/>\n",
              "    <path d=\"M18.56 5.44l.94 2.06.94-2.06 2.06-.94-2.06-.94-.94-2.06-.94 2.06-2.06.94zm-11 1L8.5 8.5l.94-2.06 2.06-.94-2.06-.94L8.5 2.5l-.94 2.06-2.06.94zm10 10l.94 2.06.94-2.06 2.06-.94-2.06-.94-.94-2.06-.94 2.06-2.06.94z\"/><path d=\"M17.41 7.96l-1.37-1.37c-.4-.4-.92-.59-1.43-.59-.52 0-1.04.2-1.43.59L10.3 9.45l-7.72 7.72c-.78.78-.78 2.05 0 2.83L4 21.41c.39.39.9.59 1.41.59.51 0 1.02-.2 1.41-.59l7.78-7.78 2.81-2.81c.8-.78.8-2.07 0-2.86zM5.41 20L4 18.59l7.72-7.72 1.47 1.35L5.41 20z\"/>\n",
              "  </svg>\n",
              "      </button>\n",
              "      \n",
              "  <style>\n",
              "    .colab-df-container {\n",
              "      display:flex;\n",
              "      flex-wrap:wrap;\n",
              "      gap: 12px;\n",
              "    }\n",
              "\n",
              "    .colab-df-convert {\n",
              "      background-color: #E8F0FE;\n",
              "      border: none;\n",
              "      border-radius: 50%;\n",
              "      cursor: pointer;\n",
              "      display: none;\n",
              "      fill: #1967D2;\n",
              "      height: 32px;\n",
              "      padding: 0 0 0 0;\n",
              "      width: 32px;\n",
              "    }\n",
              "\n",
              "    .colab-df-convert:hover {\n",
              "      background-color: #E2EBFA;\n",
              "      box-shadow: 0px 1px 2px rgba(60, 64, 67, 0.3), 0px 1px 3px 1px rgba(60, 64, 67, 0.15);\n",
              "      fill: #174EA6;\n",
              "    }\n",
              "\n",
              "    [theme=dark] .colab-df-convert {\n",
              "      background-color: #3B4455;\n",
              "      fill: #D2E3FC;\n",
              "    }\n",
              "\n",
              "    [theme=dark] .colab-df-convert:hover {\n",
              "      background-color: #434B5C;\n",
              "      box-shadow: 0px 1px 3px 1px rgba(0, 0, 0, 0.15);\n",
              "      filter: drop-shadow(0px 1px 2px rgba(0, 0, 0, 0.3));\n",
              "      fill: #FFFFFF;\n",
              "    }\n",
              "  </style>\n",
              "\n",
              "      <script>\n",
              "        const buttonEl =\n",
              "          document.querySelector('#df-92c7608f-2f3d-4a5a-a8e0-148ae85493b9 button.colab-df-convert');\n",
              "        buttonEl.style.display =\n",
              "          google.colab.kernel.accessAllowed ? 'block' : 'none';\n",
              "\n",
              "        async function convertToInteractive(key) {\n",
              "          const element = document.querySelector('#df-92c7608f-2f3d-4a5a-a8e0-148ae85493b9');\n",
              "          const dataTable =\n",
              "            await google.colab.kernel.invokeFunction('convertToInteractive',\n",
              "                                                     [key], {});\n",
              "          if (!dataTable) return;\n",
              "\n",
              "          const docLinkHtml = 'Like what you see? Visit the ' +\n",
              "            '<a target=\"_blank\" href=https://colab.research.google.com/notebooks/data_table.ipynb>data table notebook</a>'\n",
              "            + ' to learn more about interactive tables.';\n",
              "          element.innerHTML = '';\n",
              "          dataTable['output_type'] = 'display_data';\n",
              "          await google.colab.output.renderOutput(dataTable, element);\n",
              "          const docLink = document.createElement('div');\n",
              "          docLink.innerHTML = docLinkHtml;\n",
              "          element.appendChild(docLink);\n",
              "        }\n",
              "      </script>\n",
              "    </div>\n",
              "  </div>\n",
              "  "
            ]
          },
          "metadata": {},
          "execution_count": 244
        }
      ]
    },
    {
      "cell_type": "markdown",
      "source": [
        "### SIMONE TEBET"
      ],
      "metadata": {
        "id": "hySqzblTO864"
      }
    },
    {
      "cell_type": "code",
      "source": [
        "lista_tweets_simone = []"
      ],
      "metadata": {
        "id": "ZY7woyimO4UA"
      },
      "execution_count": null,
      "outputs": []
    },
    {
      "cell_type": "code",
      "source": [
        "for i , tweet in enumerate((sntwitter.TwitterSearchScraper(['Simone Tebet'])).get_items()):\n",
        "  if i > maximo_de_tweets:\n",
        "    break\n",
        "  lista_tweets_simone.append([tweet.date, tweet.id, tweet.content])"
      ],
      "metadata": {
        "id": "ERklGxfTPFjg"
      },
      "execution_count": null,
      "outputs": []
    },
    {
      "cell_type": "code",
      "source": [
        "#Criando df  Simone \n",
        "dataframe_tweets_simone = pd.DataFrame( lista_tweets_simone, columns=['Data_Hora', 'Id_Tweet', 'Tweet'])"
      ],
      "metadata": {
        "id": "-k2rJ7suPWHT"
      },
      "execution_count": null,
      "outputs": []
    },
    {
      "cell_type": "code",
      "source": [
        "# Adicionando a coluna candidato para melhorar a visualização. \n",
        "dataframe_tweets_simone['Candidato'] = \"SIMONE TEBET \""
      ],
      "metadata": {
        "id": "Tt8HGiD1PduP"
      },
      "execution_count": null,
      "outputs": []
    },
    {
      "cell_type": "code",
      "source": [
        "dataframe_tweets_simone.head()"
      ],
      "metadata": {
        "colab": {
          "base_uri": "https://localhost:8080/",
          "height": 337
        },
        "id": "YttnSR75Pk7I",
        "outputId": "77005a3c-6b72-4b40-f890-80b36e02df31"
      },
      "execution_count": null,
      "outputs": [
        {
          "output_type": "execute_result",
          "data": {
            "text/plain": [
              "                  Data_Hora             Id_Tweet  \\\n",
              "0 2022-08-02 15:59:52+00:00  1554497219092529152   \n",
              "1 2022-08-02 15:59:47+00:00  1554497195948363783   \n",
              "2 2022-08-02 15:59:32+00:00  1554497134455570432   \n",
              "3 2022-08-02 15:59:30+00:00  1554497127077888001   \n",
              "4 2022-08-02 15:59:26+00:00  1554497107238817792   \n",
              "\n",
              "                                               Tweet      Candidato  \n",
              "0  @simonetebetbr E é considerada a mulher que nã...  SIMONE TEBET   \n",
              "1        @simonetebetbr E não pode fazer isso agora?  SIMONE TEBET   \n",
              "2                            @simonetebetbr Confia!!  SIMONE TEBET   \n",
              "3  @Clauwild1 @TniaJosdeSFeit2 Mas mesmo com SUA ...  SIMONE TEBET   \n",
              "4  Los partidos de centro que postularon a la sen...  SIMONE TEBET   "
            ],
            "text/html": [
              "\n",
              "  <div id=\"df-111c10af-2469-4937-8744-b2dd64fd134f\">\n",
              "    <div class=\"colab-df-container\">\n",
              "      <div>\n",
              "<style scoped>\n",
              "    .dataframe tbody tr th:only-of-type {\n",
              "        vertical-align: middle;\n",
              "    }\n",
              "\n",
              "    .dataframe tbody tr th {\n",
              "        vertical-align: top;\n",
              "    }\n",
              "\n",
              "    .dataframe thead th {\n",
              "        text-align: right;\n",
              "    }\n",
              "</style>\n",
              "<table border=\"1\" class=\"dataframe\">\n",
              "  <thead>\n",
              "    <tr style=\"text-align: right;\">\n",
              "      <th></th>\n",
              "      <th>Data_Hora</th>\n",
              "      <th>Id_Tweet</th>\n",
              "      <th>Tweet</th>\n",
              "      <th>Candidato</th>\n",
              "    </tr>\n",
              "  </thead>\n",
              "  <tbody>\n",
              "    <tr>\n",
              "      <th>0</th>\n",
              "      <td>2022-08-02 15:59:52+00:00</td>\n",
              "      <td>1554497219092529152</td>\n",
              "      <td>@simonetebetbr E é considerada a mulher que nã...</td>\n",
              "      <td>SIMONE TEBET</td>\n",
              "    </tr>\n",
              "    <tr>\n",
              "      <th>1</th>\n",
              "      <td>2022-08-02 15:59:47+00:00</td>\n",
              "      <td>1554497195948363783</td>\n",
              "      <td>@simonetebetbr E não pode fazer isso agora?</td>\n",
              "      <td>SIMONE TEBET</td>\n",
              "    </tr>\n",
              "    <tr>\n",
              "      <th>2</th>\n",
              "      <td>2022-08-02 15:59:32+00:00</td>\n",
              "      <td>1554497134455570432</td>\n",
              "      <td>@simonetebetbr Confia!!</td>\n",
              "      <td>SIMONE TEBET</td>\n",
              "    </tr>\n",
              "    <tr>\n",
              "      <th>3</th>\n",
              "      <td>2022-08-02 15:59:30+00:00</td>\n",
              "      <td>1554497127077888001</td>\n",
              "      <td>@Clauwild1 @TniaJosdeSFeit2 Mas mesmo com SUA ...</td>\n",
              "      <td>SIMONE TEBET</td>\n",
              "    </tr>\n",
              "    <tr>\n",
              "      <th>4</th>\n",
              "      <td>2022-08-02 15:59:26+00:00</td>\n",
              "      <td>1554497107238817792</td>\n",
              "      <td>Los partidos de centro que postularon a la sen...</td>\n",
              "      <td>SIMONE TEBET</td>\n",
              "    </tr>\n",
              "  </tbody>\n",
              "</table>\n",
              "</div>\n",
              "      <button class=\"colab-df-convert\" onclick=\"convertToInteractive('df-111c10af-2469-4937-8744-b2dd64fd134f')\"\n",
              "              title=\"Convert this dataframe to an interactive table.\"\n",
              "              style=\"display:none;\">\n",
              "        \n",
              "  <svg xmlns=\"http://www.w3.org/2000/svg\" height=\"24px\"viewBox=\"0 0 24 24\"\n",
              "       width=\"24px\">\n",
              "    <path d=\"M0 0h24v24H0V0z\" fill=\"none\"/>\n",
              "    <path d=\"M18.56 5.44l.94 2.06.94-2.06 2.06-.94-2.06-.94-.94-2.06-.94 2.06-2.06.94zm-11 1L8.5 8.5l.94-2.06 2.06-.94-2.06-.94L8.5 2.5l-.94 2.06-2.06.94zm10 10l.94 2.06.94-2.06 2.06-.94-2.06-.94-.94-2.06-.94 2.06-2.06.94z\"/><path d=\"M17.41 7.96l-1.37-1.37c-.4-.4-.92-.59-1.43-.59-.52 0-1.04.2-1.43.59L10.3 9.45l-7.72 7.72c-.78.78-.78 2.05 0 2.83L4 21.41c.39.39.9.59 1.41.59.51 0 1.02-.2 1.41-.59l7.78-7.78 2.81-2.81c.8-.78.8-2.07 0-2.86zM5.41 20L4 18.59l7.72-7.72 1.47 1.35L5.41 20z\"/>\n",
              "  </svg>\n",
              "      </button>\n",
              "      \n",
              "  <style>\n",
              "    .colab-df-container {\n",
              "      display:flex;\n",
              "      flex-wrap:wrap;\n",
              "      gap: 12px;\n",
              "    }\n",
              "\n",
              "    .colab-df-convert {\n",
              "      background-color: #E8F0FE;\n",
              "      border: none;\n",
              "      border-radius: 50%;\n",
              "      cursor: pointer;\n",
              "      display: none;\n",
              "      fill: #1967D2;\n",
              "      height: 32px;\n",
              "      padding: 0 0 0 0;\n",
              "      width: 32px;\n",
              "    }\n",
              "\n",
              "    .colab-df-convert:hover {\n",
              "      background-color: #E2EBFA;\n",
              "      box-shadow: 0px 1px 2px rgba(60, 64, 67, 0.3), 0px 1px 3px 1px rgba(60, 64, 67, 0.15);\n",
              "      fill: #174EA6;\n",
              "    }\n",
              "\n",
              "    [theme=dark] .colab-df-convert {\n",
              "      background-color: #3B4455;\n",
              "      fill: #D2E3FC;\n",
              "    }\n",
              "\n",
              "    [theme=dark] .colab-df-convert:hover {\n",
              "      background-color: #434B5C;\n",
              "      box-shadow: 0px 1px 3px 1px rgba(0, 0, 0, 0.15);\n",
              "      filter: drop-shadow(0px 1px 2px rgba(0, 0, 0, 0.3));\n",
              "      fill: #FFFFFF;\n",
              "    }\n",
              "  </style>\n",
              "\n",
              "      <script>\n",
              "        const buttonEl =\n",
              "          document.querySelector('#df-111c10af-2469-4937-8744-b2dd64fd134f button.colab-df-convert');\n",
              "        buttonEl.style.display =\n",
              "          google.colab.kernel.accessAllowed ? 'block' : 'none';\n",
              "\n",
              "        async function convertToInteractive(key) {\n",
              "          const element = document.querySelector('#df-111c10af-2469-4937-8744-b2dd64fd134f');\n",
              "          const dataTable =\n",
              "            await google.colab.kernel.invokeFunction('convertToInteractive',\n",
              "                                                     [key], {});\n",
              "          if (!dataTable) return;\n",
              "\n",
              "          const docLinkHtml = 'Like what you see? Visit the ' +\n",
              "            '<a target=\"_blank\" href=https://colab.research.google.com/notebooks/data_table.ipynb>data table notebook</a>'\n",
              "            + ' to learn more about interactive tables.';\n",
              "          element.innerHTML = '';\n",
              "          dataTable['output_type'] = 'display_data';\n",
              "          await google.colab.output.renderOutput(dataTable, element);\n",
              "          const docLink = document.createElement('div');\n",
              "          docLink.innerHTML = docLinkHtml;\n",
              "          element.appendChild(docLink);\n",
              "        }\n",
              "      </script>\n",
              "    </div>\n",
              "  </div>\n",
              "  "
            ]
          },
          "metadata": {},
          "execution_count": 249
        }
      ]
    },
    {
      "cell_type": "markdown",
      "source": [
        "SOFIA MANZANO "
      ],
      "metadata": {
        "id": "uG7_4KsKPymN"
      }
    },
    {
      "cell_type": "code",
      "source": [
        "lista_tweets_sofia = []"
      ],
      "metadata": {
        "id": "qz9Kb10KP6tX"
      },
      "execution_count": null,
      "outputs": []
    },
    {
      "cell_type": "code",
      "source": [
        "for i , tweet in enumerate((sntwitter.TwitterSearchScraper(['Sofia Manzano'])).get_items()):\n",
        "  if i > maximo_de_tweets:\n",
        "    break\n",
        "  lista_tweets_sofia.append([tweet.date, tweet.id, tweet.content])"
      ],
      "metadata": {
        "id": "7UoJmjXPP7Ae"
      },
      "execution_count": null,
      "outputs": []
    },
    {
      "cell_type": "code",
      "source": [
        "#Criando df  Sofia \n",
        "dataframe_tweets_sofia = pd.DataFrame( lista_tweets_sofia, columns=['Data_Hora', 'Id_Tweet', 'Tweet'])"
      ],
      "metadata": {
        "id": "nz-DRl4rP7Jq"
      },
      "execution_count": null,
      "outputs": []
    },
    {
      "cell_type": "code",
      "source": [
        "# Adicionando a coluna candidato para melhorar a visualização. \n",
        "dataframe_tweets_sofia['Candidato'] = \"SOFIA MANZANO \""
      ],
      "metadata": {
        "id": "O2bTWBuSP7Si"
      },
      "execution_count": null,
      "outputs": []
    },
    {
      "cell_type": "code",
      "source": [
        "dataframe_tweets_sofia.head()"
      ],
      "metadata": {
        "colab": {
          "base_uri": "https://localhost:8080/",
          "height": 337
        },
        "id": "VIW5JKfjP88_",
        "outputId": "1ca84bef-564d-4ed4-8fbc-51268d032414"
      },
      "execution_count": null,
      "outputs": [
        {
          "output_type": "execute_result",
          "data": {
            "text/plain": [
              "                  Data_Hora             Id_Tweet  \\\n",
              "0 2022-08-02 16:00:04+00:00  1554497269524828161   \n",
              "1 2022-08-02 15:54:34+00:00  1554495885450543107   \n",
              "2 2022-08-02 15:53:21+00:00  1554495576641015808   \n",
              "3 2022-08-02 15:39:44+00:00  1554492151802781697   \n",
              "4 2022-08-02 15:39:05+00:00  1554491989068070912   \n",
              "\n",
              "                                               Tweet       Candidato  \n",
              "0  Esperando lucas edson falar qual vai ser o tem...  SOFIA MANZANO   \n",
              "1  *video do meu irmão colocando uma moeda dentro...  SOFIA MANZANO   \n",
              "2  @bolcherafa É foda essas fita, as vezes me sin...  SOFIA MANZANO   \n",
              "3                                @comunalulu PQP!!!!  SOFIA MANZANO   \n",
              "4                          ✨ https://t.co/AGSag5JAJ4  SOFIA MANZANO   "
            ],
            "text/html": [
              "\n",
              "  <div id=\"df-11d9c2e2-3bd1-42da-be65-9cf347034197\">\n",
              "    <div class=\"colab-df-container\">\n",
              "      <div>\n",
              "<style scoped>\n",
              "    .dataframe tbody tr th:only-of-type {\n",
              "        vertical-align: middle;\n",
              "    }\n",
              "\n",
              "    .dataframe tbody tr th {\n",
              "        vertical-align: top;\n",
              "    }\n",
              "\n",
              "    .dataframe thead th {\n",
              "        text-align: right;\n",
              "    }\n",
              "</style>\n",
              "<table border=\"1\" class=\"dataframe\">\n",
              "  <thead>\n",
              "    <tr style=\"text-align: right;\">\n",
              "      <th></th>\n",
              "      <th>Data_Hora</th>\n",
              "      <th>Id_Tweet</th>\n",
              "      <th>Tweet</th>\n",
              "      <th>Candidato</th>\n",
              "    </tr>\n",
              "  </thead>\n",
              "  <tbody>\n",
              "    <tr>\n",
              "      <th>0</th>\n",
              "      <td>2022-08-02 16:00:04+00:00</td>\n",
              "      <td>1554497269524828161</td>\n",
              "      <td>Esperando lucas edson falar qual vai ser o tem...</td>\n",
              "      <td>SOFIA MANZANO</td>\n",
              "    </tr>\n",
              "    <tr>\n",
              "      <th>1</th>\n",
              "      <td>2022-08-02 15:54:34+00:00</td>\n",
              "      <td>1554495885450543107</td>\n",
              "      <td>*video do meu irmão colocando uma moeda dentro...</td>\n",
              "      <td>SOFIA MANZANO</td>\n",
              "    </tr>\n",
              "    <tr>\n",
              "      <th>2</th>\n",
              "      <td>2022-08-02 15:53:21+00:00</td>\n",
              "      <td>1554495576641015808</td>\n",
              "      <td>@bolcherafa É foda essas fita, as vezes me sin...</td>\n",
              "      <td>SOFIA MANZANO</td>\n",
              "    </tr>\n",
              "    <tr>\n",
              "      <th>3</th>\n",
              "      <td>2022-08-02 15:39:44+00:00</td>\n",
              "      <td>1554492151802781697</td>\n",
              "      <td>@comunalulu PQP!!!!</td>\n",
              "      <td>SOFIA MANZANO</td>\n",
              "    </tr>\n",
              "    <tr>\n",
              "      <th>4</th>\n",
              "      <td>2022-08-02 15:39:05+00:00</td>\n",
              "      <td>1554491989068070912</td>\n",
              "      <td>✨ https://t.co/AGSag5JAJ4</td>\n",
              "      <td>SOFIA MANZANO</td>\n",
              "    </tr>\n",
              "  </tbody>\n",
              "</table>\n",
              "</div>\n",
              "      <button class=\"colab-df-convert\" onclick=\"convertToInteractive('df-11d9c2e2-3bd1-42da-be65-9cf347034197')\"\n",
              "              title=\"Convert this dataframe to an interactive table.\"\n",
              "              style=\"display:none;\">\n",
              "        \n",
              "  <svg xmlns=\"http://www.w3.org/2000/svg\" height=\"24px\"viewBox=\"0 0 24 24\"\n",
              "       width=\"24px\">\n",
              "    <path d=\"M0 0h24v24H0V0z\" fill=\"none\"/>\n",
              "    <path d=\"M18.56 5.44l.94 2.06.94-2.06 2.06-.94-2.06-.94-.94-2.06-.94 2.06-2.06.94zm-11 1L8.5 8.5l.94-2.06 2.06-.94-2.06-.94L8.5 2.5l-.94 2.06-2.06.94zm10 10l.94 2.06.94-2.06 2.06-.94-2.06-.94-.94-2.06-.94 2.06-2.06.94z\"/><path d=\"M17.41 7.96l-1.37-1.37c-.4-.4-.92-.59-1.43-.59-.52 0-1.04.2-1.43.59L10.3 9.45l-7.72 7.72c-.78.78-.78 2.05 0 2.83L4 21.41c.39.39.9.59 1.41.59.51 0 1.02-.2 1.41-.59l7.78-7.78 2.81-2.81c.8-.78.8-2.07 0-2.86zM5.41 20L4 18.59l7.72-7.72 1.47 1.35L5.41 20z\"/>\n",
              "  </svg>\n",
              "      </button>\n",
              "      \n",
              "  <style>\n",
              "    .colab-df-container {\n",
              "      display:flex;\n",
              "      flex-wrap:wrap;\n",
              "      gap: 12px;\n",
              "    }\n",
              "\n",
              "    .colab-df-convert {\n",
              "      background-color: #E8F0FE;\n",
              "      border: none;\n",
              "      border-radius: 50%;\n",
              "      cursor: pointer;\n",
              "      display: none;\n",
              "      fill: #1967D2;\n",
              "      height: 32px;\n",
              "      padding: 0 0 0 0;\n",
              "      width: 32px;\n",
              "    }\n",
              "\n",
              "    .colab-df-convert:hover {\n",
              "      background-color: #E2EBFA;\n",
              "      box-shadow: 0px 1px 2px rgba(60, 64, 67, 0.3), 0px 1px 3px 1px rgba(60, 64, 67, 0.15);\n",
              "      fill: #174EA6;\n",
              "    }\n",
              "\n",
              "    [theme=dark] .colab-df-convert {\n",
              "      background-color: #3B4455;\n",
              "      fill: #D2E3FC;\n",
              "    }\n",
              "\n",
              "    [theme=dark] .colab-df-convert:hover {\n",
              "      background-color: #434B5C;\n",
              "      box-shadow: 0px 1px 3px 1px rgba(0, 0, 0, 0.15);\n",
              "      filter: drop-shadow(0px 1px 2px rgba(0, 0, 0, 0.3));\n",
              "      fill: #FFFFFF;\n",
              "    }\n",
              "  </style>\n",
              "\n",
              "      <script>\n",
              "        const buttonEl =\n",
              "          document.querySelector('#df-11d9c2e2-3bd1-42da-be65-9cf347034197 button.colab-df-convert');\n",
              "        buttonEl.style.display =\n",
              "          google.colab.kernel.accessAllowed ? 'block' : 'none';\n",
              "\n",
              "        async function convertToInteractive(key) {\n",
              "          const element = document.querySelector('#df-11d9c2e2-3bd1-42da-be65-9cf347034197');\n",
              "          const dataTable =\n",
              "            await google.colab.kernel.invokeFunction('convertToInteractive',\n",
              "                                                     [key], {});\n",
              "          if (!dataTable) return;\n",
              "\n",
              "          const docLinkHtml = 'Like what you see? Visit the ' +\n",
              "            '<a target=\"_blank\" href=https://colab.research.google.com/notebooks/data_table.ipynb>data table notebook</a>'\n",
              "            + ' to learn more about interactive tables.';\n",
              "          element.innerHTML = '';\n",
              "          dataTable['output_type'] = 'display_data';\n",
              "          await google.colab.output.renderOutput(dataTable, element);\n",
              "          const docLink = document.createElement('div');\n",
              "          docLink.innerHTML = docLinkHtml;\n",
              "          element.appendChild(docLink);\n",
              "        }\n",
              "      </script>\n",
              "    </div>\n",
              "  </div>\n",
              "  "
            ]
          },
          "metadata": {},
          "execution_count": 254
        }
      ]
    },
    {
      "cell_type": "markdown",
      "source": [
        "VERA LÚCIA"
      ],
      "metadata": {
        "id": "zr0Hqx_hP2kM"
      }
    },
    {
      "cell_type": "code",
      "source": [
        "lista_tweets_vera = []"
      ],
      "metadata": {
        "id": "PuwiaNDaPrrg"
      },
      "execution_count": null,
      "outputs": []
    },
    {
      "cell_type": "code",
      "source": [
        "for i , tweet in enumerate((sntwitter.TwitterSearchScraper(['Vera Lúcia'])).get_items()):\n",
        "  if i > maximo_de_tweets:\n",
        "    break\n",
        "  lista_tweets_vera.append([tweet.date, tweet.id, tweet.content])"
      ],
      "metadata": {
        "id": "92jSvC09QIJf"
      },
      "execution_count": null,
      "outputs": []
    },
    {
      "cell_type": "code",
      "source": [
        "#Criando df  Simone \n",
        "dataframe_tweets_vera = pd.DataFrame( lista_tweets_vera, columns=['Data_Hora', 'Id_Tweet', 'Tweet'])"
      ],
      "metadata": {
        "id": "H21LPNMyQIRV"
      },
      "execution_count": null,
      "outputs": []
    },
    {
      "cell_type": "code",
      "source": [
        "# Adicionando a coluna candidato para melhorar a visualização. \n",
        "dataframe_tweets_vera['Candidato'] = \"VERA LÚCIA \""
      ],
      "metadata": {
        "id": "a3xPGKYCQIZb"
      },
      "execution_count": null,
      "outputs": []
    },
    {
      "cell_type": "code",
      "source": [
        "dataframe_tweets_vera.head()"
      ],
      "metadata": {
        "colab": {
          "base_uri": "https://localhost:8080/",
          "height": 337
        },
        "id": "2Eub-HmXQIei",
        "outputId": "7f365367-0367-42bd-ebba-0e6d8317bf3c"
      },
      "execution_count": null,
      "outputs": [
        {
          "output_type": "execute_result",
          "data": {
            "text/plain": [
              "                  Data_Hora             Id_Tweet  \\\n",
              "0 2022-08-02 15:58:41+00:00  1554496920655208449   \n",
              "1 2022-08-02 15:57:30+00:00  1554496623559974913   \n",
              "2 2022-08-02 15:56:44+00:00  1554496429825073153   \n",
              "3 2022-08-02 15:55:26+00:00  1554496100425498624   \n",
              "4 2022-08-02 15:53:39+00:00  1554495652524064771   \n",
              "\n",
              "                                               Tweet    Candidato  \n",
              "0                          @AlanLopesRio Eu creio! 🙏  VERA LÚCIA   \n",
              "1  Em orações peço todos os dias pelo nosso presi...  VERA LÚCIA   \n",
              "2  @FlavioBolsonaro Meu Presidente! Deus o abenço...  VERA LÚCIA   \n",
              "3  Desde sempre se sabe que essa família se enriq...  VERA LÚCIA   \n",
              "4  n basta ladrões nas ruas ainda vem os ladrões ...  VERA LÚCIA   "
            ],
            "text/html": [
              "\n",
              "  <div id=\"df-0ddc3972-6a81-4cf9-a0f1-c060d84f5054\">\n",
              "    <div class=\"colab-df-container\">\n",
              "      <div>\n",
              "<style scoped>\n",
              "    .dataframe tbody tr th:only-of-type {\n",
              "        vertical-align: middle;\n",
              "    }\n",
              "\n",
              "    .dataframe tbody tr th {\n",
              "        vertical-align: top;\n",
              "    }\n",
              "\n",
              "    .dataframe thead th {\n",
              "        text-align: right;\n",
              "    }\n",
              "</style>\n",
              "<table border=\"1\" class=\"dataframe\">\n",
              "  <thead>\n",
              "    <tr style=\"text-align: right;\">\n",
              "      <th></th>\n",
              "      <th>Data_Hora</th>\n",
              "      <th>Id_Tweet</th>\n",
              "      <th>Tweet</th>\n",
              "      <th>Candidato</th>\n",
              "    </tr>\n",
              "  </thead>\n",
              "  <tbody>\n",
              "    <tr>\n",
              "      <th>0</th>\n",
              "      <td>2022-08-02 15:58:41+00:00</td>\n",
              "      <td>1554496920655208449</td>\n",
              "      <td>@AlanLopesRio Eu creio! 🙏</td>\n",
              "      <td>VERA LÚCIA</td>\n",
              "    </tr>\n",
              "    <tr>\n",
              "      <th>1</th>\n",
              "      <td>2022-08-02 15:57:30+00:00</td>\n",
              "      <td>1554496623559974913</td>\n",
              "      <td>Em orações peço todos os dias pelo nosso presi...</td>\n",
              "      <td>VERA LÚCIA</td>\n",
              "    </tr>\n",
              "    <tr>\n",
              "      <th>2</th>\n",
              "      <td>2022-08-02 15:56:44+00:00</td>\n",
              "      <td>1554496429825073153</td>\n",
              "      <td>@FlavioBolsonaro Meu Presidente! Deus o abenço...</td>\n",
              "      <td>VERA LÚCIA</td>\n",
              "    </tr>\n",
              "    <tr>\n",
              "      <th>3</th>\n",
              "      <td>2022-08-02 15:55:26+00:00</td>\n",
              "      <td>1554496100425498624</td>\n",
              "      <td>Desde sempre se sabe que essa família se enriq...</td>\n",
              "      <td>VERA LÚCIA</td>\n",
              "    </tr>\n",
              "    <tr>\n",
              "      <th>4</th>\n",
              "      <td>2022-08-02 15:53:39+00:00</td>\n",
              "      <td>1554495652524064771</td>\n",
              "      <td>n basta ladrões nas ruas ainda vem os ladrões ...</td>\n",
              "      <td>VERA LÚCIA</td>\n",
              "    </tr>\n",
              "  </tbody>\n",
              "</table>\n",
              "</div>\n",
              "      <button class=\"colab-df-convert\" onclick=\"convertToInteractive('df-0ddc3972-6a81-4cf9-a0f1-c060d84f5054')\"\n",
              "              title=\"Convert this dataframe to an interactive table.\"\n",
              "              style=\"display:none;\">\n",
              "        \n",
              "  <svg xmlns=\"http://www.w3.org/2000/svg\" height=\"24px\"viewBox=\"0 0 24 24\"\n",
              "       width=\"24px\">\n",
              "    <path d=\"M0 0h24v24H0V0z\" fill=\"none\"/>\n",
              "    <path d=\"M18.56 5.44l.94 2.06.94-2.06 2.06-.94-2.06-.94-.94-2.06-.94 2.06-2.06.94zm-11 1L8.5 8.5l.94-2.06 2.06-.94-2.06-.94L8.5 2.5l-.94 2.06-2.06.94zm10 10l.94 2.06.94-2.06 2.06-.94-2.06-.94-.94-2.06-.94 2.06-2.06.94z\"/><path d=\"M17.41 7.96l-1.37-1.37c-.4-.4-.92-.59-1.43-.59-.52 0-1.04.2-1.43.59L10.3 9.45l-7.72 7.72c-.78.78-.78 2.05 0 2.83L4 21.41c.39.39.9.59 1.41.59.51 0 1.02-.2 1.41-.59l7.78-7.78 2.81-2.81c.8-.78.8-2.07 0-2.86zM5.41 20L4 18.59l7.72-7.72 1.47 1.35L5.41 20z\"/>\n",
              "  </svg>\n",
              "      </button>\n",
              "      \n",
              "  <style>\n",
              "    .colab-df-container {\n",
              "      display:flex;\n",
              "      flex-wrap:wrap;\n",
              "      gap: 12px;\n",
              "    }\n",
              "\n",
              "    .colab-df-convert {\n",
              "      background-color: #E8F0FE;\n",
              "      border: none;\n",
              "      border-radius: 50%;\n",
              "      cursor: pointer;\n",
              "      display: none;\n",
              "      fill: #1967D2;\n",
              "      height: 32px;\n",
              "      padding: 0 0 0 0;\n",
              "      width: 32px;\n",
              "    }\n",
              "\n",
              "    .colab-df-convert:hover {\n",
              "      background-color: #E2EBFA;\n",
              "      box-shadow: 0px 1px 2px rgba(60, 64, 67, 0.3), 0px 1px 3px 1px rgba(60, 64, 67, 0.15);\n",
              "      fill: #174EA6;\n",
              "    }\n",
              "\n",
              "    [theme=dark] .colab-df-convert {\n",
              "      background-color: #3B4455;\n",
              "      fill: #D2E3FC;\n",
              "    }\n",
              "\n",
              "    [theme=dark] .colab-df-convert:hover {\n",
              "      background-color: #434B5C;\n",
              "      box-shadow: 0px 1px 3px 1px rgba(0, 0, 0, 0.15);\n",
              "      filter: drop-shadow(0px 1px 2px rgba(0, 0, 0, 0.3));\n",
              "      fill: #FFFFFF;\n",
              "    }\n",
              "  </style>\n",
              "\n",
              "      <script>\n",
              "        const buttonEl =\n",
              "          document.querySelector('#df-0ddc3972-6a81-4cf9-a0f1-c060d84f5054 button.colab-df-convert');\n",
              "        buttonEl.style.display =\n",
              "          google.colab.kernel.accessAllowed ? 'block' : 'none';\n",
              "\n",
              "        async function convertToInteractive(key) {\n",
              "          const element = document.querySelector('#df-0ddc3972-6a81-4cf9-a0f1-c060d84f5054');\n",
              "          const dataTable =\n",
              "            await google.colab.kernel.invokeFunction('convertToInteractive',\n",
              "                                                     [key], {});\n",
              "          if (!dataTable) return;\n",
              "\n",
              "          const docLinkHtml = 'Like what you see? Visit the ' +\n",
              "            '<a target=\"_blank\" href=https://colab.research.google.com/notebooks/data_table.ipynb>data table notebook</a>'\n",
              "            + ' to learn more about interactive tables.';\n",
              "          element.innerHTML = '';\n",
              "          dataTable['output_type'] = 'display_data';\n",
              "          await google.colab.output.renderOutput(dataTable, element);\n",
              "          const docLink = document.createElement('div');\n",
              "          docLink.innerHTML = docLinkHtml;\n",
              "          element.appendChild(docLink);\n",
              "        }\n",
              "      </script>\n",
              "    </div>\n",
              "  </div>\n",
              "  "
            ]
          },
          "metadata": {},
          "execution_count": 259
        }
      ]
    },
    {
      "cell_type": "code",
      "source": [
        "df_todos = pd.concat([dataframe_tweets_bolsonaro, dataframe_tweets_andre, dataframe_tweets_ciro, dataframe_tweets_eymael, dataframe_tweets_lula, dataframe_tweets_felipe, dataframe_tweets_leonardo, dataframe_tweets_pablo, dataframe_tweets_roberto, dataframe_tweets_vera, dataframe_tweets_sofia, dataframe_tweets_simone])"
      ],
      "metadata": {
        "id": "Q9mTMa1jQ5p_"
      },
      "execution_count": null,
      "outputs": []
    },
    {
      "cell_type": "code",
      "source": [
        "df_todos['Candidato'].unique()"
      ],
      "metadata": {
        "colab": {
          "base_uri": "https://localhost:8080/"
        },
        "id": "EBGkuUa7WVWL",
        "outputId": "b5f2978c-8dfb-4ca5-9ec3-a2c12b48363c"
      },
      "execution_count": null,
      "outputs": [
        {
          "output_type": "execute_result",
          "data": {
            "text/plain": [
              "array(['BOLSONARO', 'André Janones', 'CIRO GOMES', 'EYMAEL ', 'LULA',\n",
              "       'FELIPE D AVILA', 'LEONARDO PÉRICLES', 'PABLO MARÇAL',\n",
              "       'ROBERTO JEFFERSON', 'VERA LÚCIA ', 'SOFIA MANZANO ',\n",
              "       'SIMONE TEBET '], dtype=object)"
            ]
          },
          "metadata": {},
          "execution_count": 263
        }
      ]
    },
    {
      "cell_type": "code",
      "source": [
        "df_todos.to_csv(\"dataframe_todos_candidatos.csv\", sep=',', index = False)"
      ],
      "metadata": {
        "id": "UzKVd8qIWlRU"
      },
      "execution_count": null,
      "outputs": []
    },
    {
      "cell_type": "code",
      "source": [
        ""
      ],
      "metadata": {
        "id": "rmI3hPafXXu9"
      },
      "execution_count": null,
      "outputs": []
    }
  ]
}